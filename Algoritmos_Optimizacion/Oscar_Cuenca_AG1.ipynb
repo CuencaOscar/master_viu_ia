{
  "nbformat": 4,
  "nbformat_minor": 0,
  "metadata": {
    "colab": {
      "provenance": [],
      "gpuType": "T4"
    },
    "kernelspec": {
      "name": "python3",
      "display_name": "Python 3"
    },
    "language_info": {
      "name": "python"
    },
    "accelerator": "GPU"
  },
  "cells": [
    {
      "cell_type": "markdown",
      "metadata": {
        "id": "GG2D6vLdYwwy"
      },
      "source": [
        "Actividad Guiada 1 de Algoritmos de Optimizacion\n",
        "\n",
        "Nombre: Oscar Patricio Cuenca Moreno\n",
        "\n",
        "https://colab.research.google.com/drive/1Cqh2DAoDELShW20-SkpYDLcQ4Z0SSHV-?usp=sharing\n",
        "\n",
        "https://github.com/CuencaOscar/master_viu_ia/blob/master/Algoritmos_Optimizacion/Oscar_Cuenca_AG1.ipynb"
      ]
    },
    {
      "cell_type": "code",
      "metadata": {
        "id": "rTiqLuX2ZKuL",
        "outputId": "483fce60-784f-4e2a-95c1-0b014b3aec29",
        "colab": {
          "base_uri": "https://localhost:8080/"
        }
      },
      "source": [
        "#Torres de Hanoi - Divide y venceras\n",
        "################################################################################\n",
        "\n",
        "\n",
        "################################################################\n",
        "def Torres_Hanoi(N, desde, hasta):\n",
        "  #N - Nº de fichas\n",
        "  #desde - torre inicial\n",
        "  #hasta - torre fina\n",
        "  if N==1 :\n",
        "    print(\"Lleva la ficha desde \" + str(desde) + \" hasta \" + str(hasta))\n",
        "\n",
        "  else:\n",
        "    Torres_Hanoi(N-1, desde, 6-desde-hasta)\n",
        "    print(\"Lleva la ficha desde \" + str(desde) + \" hasta \" + str(hasta))\n",
        "    Torres_Hanoi(N-1, 6-desde-hasta,  hasta)\n",
        "\n",
        "Torres_Hanoi(5, 1, 3)\n",
        "################################################################"
      ],
      "execution_count": null,
      "outputs": [
        {
          "output_type": "stream",
          "name": "stdout",
          "text": [
            "Lleva la ficha desde 1 hasta 3\n",
            "Lleva la ficha desde 1 hasta 2\n",
            "Lleva la ficha desde 3 hasta 2\n",
            "Lleva la ficha desde 1 hasta 3\n",
            "Lleva la ficha desde 2 hasta 1\n",
            "Lleva la ficha desde 2 hasta 3\n",
            "Lleva la ficha desde 1 hasta 3\n",
            "Lleva la ficha desde 1 hasta 2\n",
            "Lleva la ficha desde 3 hasta 2\n",
            "Lleva la ficha desde 3 hasta 1\n",
            "Lleva la ficha desde 2 hasta 1\n",
            "Lleva la ficha desde 3 hasta 2\n",
            "Lleva la ficha desde 1 hasta 3\n",
            "Lleva la ficha desde 1 hasta 2\n",
            "Lleva la ficha desde 3 hasta 2\n",
            "Lleva la ficha desde 1 hasta 3\n",
            "Lleva la ficha desde 2 hasta 1\n",
            "Lleva la ficha desde 2 hasta 3\n",
            "Lleva la ficha desde 1 hasta 3\n",
            "Lleva la ficha desde 2 hasta 1\n",
            "Lleva la ficha desde 3 hasta 2\n",
            "Lleva la ficha desde 3 hasta 1\n",
            "Lleva la ficha desde 2 hasta 1\n",
            "Lleva la ficha desde 2 hasta 3\n",
            "Lleva la ficha desde 1 hasta 3\n",
            "Lleva la ficha desde 1 hasta 2\n",
            "Lleva la ficha desde 3 hasta 2\n",
            "Lleva la ficha desde 1 hasta 3\n",
            "Lleva la ficha desde 2 hasta 1\n",
            "Lleva la ficha desde 2 hasta 3\n",
            "Lleva la ficha desde 1 hasta 3\n"
          ]
        }
      ]
    },
    {
      "cell_type": "markdown",
      "source": [
        "En nuestro estudio del algoritmo de las Torres de Hanoi, observamos cómo la recursividad y el enfoque \"divide y vencerás\" hacen que la solución de problemas complejos sea más simplificada. Este método divide tareas grandes en tareas más pequeñas, lo que es fundamental para la optimización de IA. Este método no solo es relevante teóricamente, sino que también tiene aplicaciones prácticas en la IA, ya que ayuda en la estructuración y resolución de problemas. Además, la implementación de este algoritmo en particular enfatiza la necesidad de una comprensión matemática y algorítmica sólida en el campo."
      ],
      "metadata": {
        "id": "1d1OLDyJZ4JE"
      }
    },
    {
      "cell_type": "markdown",
      "source": [
        "Analizando el codigo, podemos ver de igual manera, que el codigo no esta preparado para mostrar mensajes de error en posibles datos erroneas que se puedan pasar como parametros a la funcion. Por ejemplo:\n",
        "\n",
        "\n",
        "\n",
        "*   Que los numeros de discos sean negativos o en su defecto cero.\n",
        "*   Que los identificadores desde y hasta, no sean ingresados correctamente.\n",
        "*   No se toma un cuenta un limite a la recursion, por lo que en caso de colocar datos grandes, puede llegar a dar error.\n",
        "\n"
      ],
      "metadata": {
        "id": "-RSYJguQjFZC"
      }
    },
    {
      "cell_type": "code",
      "metadata": {
        "id": "YwBudj2hYoMR",
        "colab": {
          "base_uri": "https://localhost:8080/"
        },
        "outputId": "d4ae2a56-784f-4015-9207-294d35080b48"
      },
      "source": [
        "#Cambio de monedas - Técnica voraz\n",
        "################################################################################\n",
        "SISTEMA = [11, 5 ,  1  ]\n",
        "################################################################\n",
        "def cambio_monedas(CANTIDAD,SISTEMA):\n",
        "#....\n",
        "  SOLUCION = [0]*len(SISTEMA)\n",
        "  ValorAcumulado = 0\n",
        "\n",
        "  for i,valor in enumerate(SISTEMA):\n",
        "    monedas = (CANTIDAD-ValorAcumulado)//valor\n",
        "    SOLUCION[i] = monedas\n",
        "    ValorAcumulado = ValorAcumulado + monedas*valor\n",
        "\n",
        "    if CANTIDAD == ValorAcumulado:\n",
        "      return SOLUCION\n",
        "\n",
        "  print(\"No es posible encontrar solucion\")\n",
        "\n",
        "cambio_monedas(15,SISTEMA)\n",
        "\n",
        "\n",
        "################################################################"
      ],
      "execution_count": null,
      "outputs": [
        {
          "output_type": "execute_result",
          "data": {
            "text/plain": [
              "[1, 0, 4]"
            ]
          },
          "metadata": {},
          "execution_count": 7
        }
      ]
    },
    {
      "cell_type": "markdown",
      "source": [
        "Al analizar el algoritmo voraz para el problema del cambio de monedas, queda claro que, aunque es una estrategia efectiva y directa, su aplicación y éxito dependen enormemente de las denominaciones de las monedas utilizadas. El método voraz puede no funcionar en sistemas de moneda donde cada denominación no es un múltiplo o submúltiplo de las demás, como en el ejemplo [11, 5, 1]. Esto destaca una limitación importante de los algoritmos voraces: su eficacia depende de la naturaleza del problema."
      ],
      "metadata": {
        "id": "Ctabeyxsk9GQ"
      }
    },
    {
      "cell_type": "markdown",
      "source": [
        "Realizando un research, se noto, que realizando el algoritmo con la tecnica voraz, no nos garantiza una solucion optima, ya que esto depende de las denominaciones que tenemos disponibles y la antidad objetivo, puede llegar a fallar si queremos encontrar el numero minimo de monedas."
      ],
      "metadata": {
        "id": "bVixISxglLFt"
      }
    },
    {
      "cell_type": "code",
      "metadata": {
        "id": "H4Iwt2XRZTFr",
        "colab": {
          "base_uri": "https://localhost:8080/"
        },
        "outputId": "e3eee8ce-b498-4235-c18e-aa9199e55010"
      },
      "source": [
        "#N Reinas - Vuelta Atrás()\n",
        "################################################################################\n",
        "\n",
        "#Verifica que en la solución parcial no hay amenzas entre reinas\n",
        "################################################################\n",
        "def es_prometedora(SOLUCION,etapa):\n",
        "################################################################\n",
        "  #print(SOLUCION)\n",
        "  #Si la solución tiene dos valores iguales no es valida => Dos reinas en la misma fila\n",
        "  for i in range(etapa+1):\n",
        "    #print(\"El valor \" + str(SOLUCION[i]) + \" está \" +  str(SOLUCION.count(SOLUCION[i])) + \" veces\")\n",
        "    if SOLUCION.count(SOLUCION[i]) > 1:\n",
        "      return False\n",
        "\n",
        "    #Verifica las diagonales\n",
        "    for j in range(i+1, etapa +1 ):\n",
        "      #print(\"Comprobando diagonal de \" + str(i) + \" y \" + str(j))\n",
        "      if abs(i-j) == abs(SOLUCION[i]-SOLUCION[j]) : return False\n",
        "  return True\n",
        "\n",
        "#Traduce la solución al tablero\n",
        "################################################################\n",
        "def escribe_solucion(S):\n",
        "################################################################\n",
        "  n = len(S)\n",
        "  for x in range(n):\n",
        "    print(\"\")\n",
        "    for i in range(n):\n",
        "      if S[i] == x+1:\n",
        "        print(\" X \" , end=\"\")\n",
        "      else:\n",
        "        print(\" - \", end=\"\")\n",
        "\n",
        "\n",
        "\n",
        "#Proceso principal de N-Reinas\n",
        "################################################################\n",
        "def reinas(N, solucion=[],etapa=0):\n",
        "################################################################\n",
        "### ....\n",
        "  if len(solucion) == 0:         # [0,0,0...]\n",
        "    solucion = [0 for i in range(N) ]\n",
        "\n",
        "  for i in range(1, N+1):\n",
        "    solucion[etapa] = i\n",
        "    if es_prometedora(solucion, etapa):\n",
        "      if etapa == N-1:\n",
        "        print(solucion)\n",
        "      else:\n",
        "        reinas(N, solucion, etapa+1)\n",
        "    else:\n",
        "      None\n",
        "\n",
        "  solucion[etapa] = 0\n",
        "\n",
        "reinas(8,solucion=[],etapa=0)"
      ],
      "execution_count": null,
      "outputs": [
        {
          "output_type": "stream",
          "name": "stdout",
          "text": [
            "[1, 5, 8, 6, 3, 7, 2, 4]\n",
            "[1, 6, 8, 3, 7, 4, 2, 5]\n",
            "[1, 7, 4, 6, 8, 2, 5, 3]\n",
            "[1, 7, 5, 8, 2, 4, 6, 3]\n",
            "[2, 4, 6, 8, 3, 1, 7, 5]\n",
            "[2, 5, 7, 1, 3, 8, 6, 4]\n",
            "[2, 5, 7, 4, 1, 8, 6, 3]\n",
            "[2, 6, 1, 7, 4, 8, 3, 5]\n",
            "[2, 6, 8, 3, 1, 4, 7, 5]\n",
            "[2, 7, 3, 6, 8, 5, 1, 4]\n",
            "[2, 7, 5, 8, 1, 4, 6, 3]\n",
            "[2, 8, 6, 1, 3, 5, 7, 4]\n",
            "[3, 1, 7, 5, 8, 2, 4, 6]\n",
            "[3, 5, 2, 8, 1, 7, 4, 6]\n",
            "[3, 5, 2, 8, 6, 4, 7, 1]\n",
            "[3, 5, 7, 1, 4, 2, 8, 6]\n",
            "[3, 5, 8, 4, 1, 7, 2, 6]\n",
            "[3, 6, 2, 5, 8, 1, 7, 4]\n",
            "[3, 6, 2, 7, 1, 4, 8, 5]\n",
            "[3, 6, 2, 7, 5, 1, 8, 4]\n",
            "[3, 6, 4, 1, 8, 5, 7, 2]\n",
            "[3, 6, 4, 2, 8, 5, 7, 1]\n",
            "[3, 6, 8, 1, 4, 7, 5, 2]\n",
            "[3, 6, 8, 1, 5, 7, 2, 4]\n",
            "[3, 6, 8, 2, 4, 1, 7, 5]\n",
            "[3, 7, 2, 8, 5, 1, 4, 6]\n",
            "[3, 7, 2, 8, 6, 4, 1, 5]\n",
            "[3, 8, 4, 7, 1, 6, 2, 5]\n",
            "[4, 1, 5, 8, 2, 7, 3, 6]\n",
            "[4, 1, 5, 8, 6, 3, 7, 2]\n",
            "[4, 2, 5, 8, 6, 1, 3, 7]\n",
            "[4, 2, 7, 3, 6, 8, 1, 5]\n",
            "[4, 2, 7, 3, 6, 8, 5, 1]\n",
            "[4, 2, 7, 5, 1, 8, 6, 3]\n",
            "[4, 2, 8, 5, 7, 1, 3, 6]\n",
            "[4, 2, 8, 6, 1, 3, 5, 7]\n",
            "[4, 6, 1, 5, 2, 8, 3, 7]\n",
            "[4, 6, 8, 2, 7, 1, 3, 5]\n",
            "[4, 6, 8, 3, 1, 7, 5, 2]\n",
            "[4, 7, 1, 8, 5, 2, 6, 3]\n",
            "[4, 7, 3, 8, 2, 5, 1, 6]\n",
            "[4, 7, 5, 2, 6, 1, 3, 8]\n",
            "[4, 7, 5, 3, 1, 6, 8, 2]\n",
            "[4, 8, 1, 3, 6, 2, 7, 5]\n",
            "[4, 8, 1, 5, 7, 2, 6, 3]\n",
            "[4, 8, 5, 3, 1, 7, 2, 6]\n",
            "[5, 1, 4, 6, 8, 2, 7, 3]\n",
            "[5, 1, 8, 4, 2, 7, 3, 6]\n",
            "[5, 1, 8, 6, 3, 7, 2, 4]\n",
            "[5, 2, 4, 6, 8, 3, 1, 7]\n",
            "[5, 2, 4, 7, 3, 8, 6, 1]\n",
            "[5, 2, 6, 1, 7, 4, 8, 3]\n",
            "[5, 2, 8, 1, 4, 7, 3, 6]\n",
            "[5, 3, 1, 6, 8, 2, 4, 7]\n",
            "[5, 3, 1, 7, 2, 8, 6, 4]\n",
            "[5, 3, 8, 4, 7, 1, 6, 2]\n",
            "[5, 7, 1, 3, 8, 6, 4, 2]\n",
            "[5, 7, 1, 4, 2, 8, 6, 3]\n",
            "[5, 7, 2, 4, 8, 1, 3, 6]\n",
            "[5, 7, 2, 6, 3, 1, 4, 8]\n",
            "[5, 7, 2, 6, 3, 1, 8, 4]\n",
            "[5, 7, 4, 1, 3, 8, 6, 2]\n",
            "[5, 8, 4, 1, 3, 6, 2, 7]\n",
            "[5, 8, 4, 1, 7, 2, 6, 3]\n",
            "[6, 1, 5, 2, 8, 3, 7, 4]\n",
            "[6, 2, 7, 1, 3, 5, 8, 4]\n",
            "[6, 2, 7, 1, 4, 8, 5, 3]\n",
            "[6, 3, 1, 7, 5, 8, 2, 4]\n",
            "[6, 3, 1, 8, 4, 2, 7, 5]\n",
            "[6, 3, 1, 8, 5, 2, 4, 7]\n",
            "[6, 3, 5, 7, 1, 4, 2, 8]\n",
            "[6, 3, 5, 8, 1, 4, 2, 7]\n",
            "[6, 3, 7, 2, 4, 8, 1, 5]\n",
            "[6, 3, 7, 2, 8, 5, 1, 4]\n",
            "[6, 3, 7, 4, 1, 8, 2, 5]\n",
            "[6, 4, 1, 5, 8, 2, 7, 3]\n",
            "[6, 4, 2, 8, 5, 7, 1, 3]\n",
            "[6, 4, 7, 1, 3, 5, 2, 8]\n",
            "[6, 4, 7, 1, 8, 2, 5, 3]\n",
            "[6, 8, 2, 4, 1, 7, 5, 3]\n",
            "[7, 1, 3, 8, 6, 4, 2, 5]\n",
            "[7, 2, 4, 1, 8, 5, 3, 6]\n",
            "[7, 2, 6, 3, 1, 4, 8, 5]\n",
            "[7, 3, 1, 6, 8, 5, 2, 4]\n",
            "[7, 3, 8, 2, 5, 1, 6, 4]\n",
            "[7, 4, 2, 5, 8, 1, 3, 6]\n",
            "[7, 4, 2, 8, 6, 1, 3, 5]\n",
            "[7, 5, 3, 1, 6, 8, 2, 4]\n",
            "[8, 2, 4, 1, 7, 5, 3, 6]\n",
            "[8, 2, 5, 3, 1, 7, 4, 6]\n",
            "[8, 3, 1, 6, 2, 5, 7, 4]\n",
            "[8, 4, 1, 3, 6, 2, 7, 5]\n"
          ]
        }
      ]
    },
    {
      "cell_type": "code",
      "metadata": {
        "id": "eTZclKH9QV0R",
        "colab": {
          "base_uri": "https://localhost:8080/"
        },
        "outputId": "eacb03ef-f500-4142-db39-da698f0807f3"
      },
      "source": [
        "escribe_solucion([1, 5, 8, 6, 3, 7, 2, 4])"
      ],
      "execution_count": null,
      "outputs": [
        {
          "output_type": "stream",
          "name": "stdout",
          "text": [
            "\n",
            " X  -  -  -  -  -  -  - \n",
            " -  -  -  -  -  -  X  - \n",
            " -  -  -  -  X  -  -  - \n",
            " -  -  -  -  -  -  -  X \n",
            " -  X  -  -  -  -  -  - \n",
            " -  -  -  X  -  -  -  - \n",
            " -  -  -  -  -  X  -  - \n",
            " -  -  X  -  -  -  -  - "
          ]
        }
      ]
    },
    {
      "cell_type": "markdown",
      "source": [
        "El algoritmo utilizado para N Reinas muestra cómo la IA puede usar técnicas de búsqueda y optimización para gestionar y resolver problemas de asignación y planificación, que son aspectos importantes en muchas aplicaciones prácticas de inteligencia artificial, como la programación de robots y la optimización de recursos en sistemas complejos. Este ejercicio no solo ayudará a comprender mejor los conceptos teóricos esenciales sobre algoritmos, sino que también proporcionará una base sólida para diseñar soluciones más avanzadas y especializadas en el campo de la inteligencia artificial."
      ],
      "metadata": {
        "id": "J9lb4TDjmQYl"
      }
    },
    {
      "cell_type": "markdown",
      "source": [
        "Posibles mejoras para este codigo, puede conllevar trabajar de manera modular, ya que es un codigo largo.\n",
        "Es un buen uso de vuelta atras, pero en caso de tener un numero alto de reinas, no llega a ser muy eficiente."
      ],
      "metadata": {
        "id": "Q-EJdmwcmr-6"
      }
    },
    {
      "cell_type": "code",
      "metadata": {
        "id": "TocxR55dQWq5",
        "outputId": "6a9e3f78-6a7a-4ac9-8460-91757819b6f2",
        "colab": {
          "base_uri": "https://localhost:8080/",
          "height": 365
        }
      },
      "source": [
        "#Viaje por el rio - Programación dinámica\n",
        "################################################################################\n",
        "\n",
        "TARIFAS = [\n",
        "[0,5,4,3,999,999,999],\n",
        "[999,0,999,2,3,999,11],\n",
        "[999,999, 0,1,999,4,10],\n",
        "[999,999,999, 0,5,6,9],\n",
        "[999,999, 999,999,0,999,4],\n",
        "[999,999, 999,999,999,0,3],\n",
        "[999,999,999,999,999,999,0]\n",
        "]\n",
        "\n",
        "#999 se puede sustituir por float(\"inf\")\n",
        "\n",
        "\n",
        "#Calculo de la matriz de PRECIOS y RUTAS\n",
        "################################################################\n",
        "def Precios(TARIFAS):\n",
        "################################################################\n",
        "  #Total de Nodos\n",
        "  N = len(TARIFAS[0])\n",
        "\n",
        "  #Inicialización de la tabla de precios\n",
        "  PRECIOS = [ [9999]*N for i in [9999]*N]\n",
        "  RUTA = [ [\"\"]*N for i in [\"\"]*N]\n",
        "\n",
        "  for i in range(0,N-1):\n",
        "    RUTA[i][i] = i             #Para ir de i a i se \"pasa por i\"\n",
        "    PRECIOS[i][i] = 0          #Para ir de i a i se se paga 0\n",
        "    for j in range(i+1, N):\n",
        "      MIN = TARIFAS[i][j]\n",
        "      RUTA[i][j] = i\n",
        "\n",
        "      for k in range(i, j):\n",
        "        if PRECIOS[i][k] + TARIFAS[k][j] < MIN:\n",
        "            MIN = min(MIN, PRECIOS[i][k] + TARIFAS[k][j] )\n",
        "            RUTA[i][j] = k          #Anota que para ir de i a j hay que pasar por k\n",
        "        PRECIOS[i][j] = MIN\n",
        "\n",
        "  return PRECIOS,RUTA\n",
        "################################################################\n",
        "\n",
        "PRECIOS,RUTA = Precios(TARIFAS)\n",
        "#print(PRECIOS[0][6])\n",
        "\n",
        "print(\"PRECIOS\")\n",
        "for i in range(len(TARIFAS)):\n",
        "  print(PRECIOS[i])\n",
        "\n",
        "print(\"\\nRUTA\")\n",
        "for i in range(len(TARIFAS)):\n",
        "  print(RUTA[i])\n",
        "\n",
        "#Determinar la ruta con Recursividad\n",
        "def calcular_ruta(RUTA, desde, hasta):\n",
        "  if desde == hasta:\n",
        "    #print(\"Ir a :\" + str(desde))\n",
        "    return \"\"\n",
        "  else:\n",
        "    return str(calcular_ruta( RUTA, desde, RUTA[desde][hasta])) +  \\\n",
        "                ',' + \\\n",
        "                str(RUTA[desde][hasta] \\\n",
        "              )\n",
        "\n",
        "print(\"\\nLa ruta es:\")\n",
        "calcular_ruta(RUTA, 0,6)"
      ],
      "execution_count": null,
      "outputs": [
        {
          "output_type": "stream",
          "name": "stdout",
          "text": [
            "PRECIOS\n",
            "[0, 5, 4, 3, 8, 8, 11]\n",
            "[9999, 0, 999, 2, 3, 8, 7]\n",
            "[9999, 9999, 0, 1, 6, 4, 7]\n",
            "[9999, 9999, 9999, 0, 5, 6, 9]\n",
            "[9999, 9999, 9999, 9999, 0, 999, 4]\n",
            "[9999, 9999, 9999, 9999, 9999, 0, 3]\n",
            "[9999, 9999, 9999, 9999, 9999, 9999, 9999]\n",
            "\n",
            "RUTA\n",
            "[0, 0, 0, 0, 1, 2, 5]\n",
            "['', 1, 1, 1, 1, 3, 4]\n",
            "['', '', 2, 2, 3, 2, 5]\n",
            "['', '', '', 3, 3, 3, 3]\n",
            "['', '', '', '', 4, 4, 4]\n",
            "['', '', '', '', '', 5, 5]\n",
            "['', '', '', '', '', '', '']\n",
            "\n",
            "La ruta es:\n"
          ]
        },
        {
          "output_type": "execute_result",
          "data": {
            "text/plain": [
              "',0,2,5'"
            ],
            "application/vnd.google.colaboratory.intrinsic+json": {
              "type": "string"
            }
          },
          "metadata": {},
          "execution_count": 10
        }
      ]
    },
    {
      "cell_type": "markdown",
      "source": [
        "Este código muestra cómo se puede utilizar la programación dinámica para optimizar decisiones secuenciales, como encontrar la ruta de costo mínimo en un gráfico, dividiendo el problema en subproblemas más simples y resolviéndolos iterativamente. En áreas de la IA que involucran optimización de rutas, como la logística y la planificación de rutas de transporte, es esencial comprender y aplicar estos principios. Este tipo de algoritmos no solo nos ofrece soluciones eficientes para problemas de optimización de redes complejas, sino que también son escalables."
      ],
      "metadata": {
        "id": "L37i9DffnqMW"
      }
    },
    {
      "cell_type": "markdown",
      "source": [
        "# Problema: Encontrar los dos puntos más cercanos\n",
        "\n",
        "Dado un conjunto de puntos, se trata de encontrar los dos puntos más cercanos.\n",
        "\n",
        "## Guía para aprendizaje:\n",
        "\n",
        "- Suponer en 1D, o sea, una lista de números: `[3403, 4537, 9089, 9746, 7259, …`\n",
        "- Primer intento: Fuerza bruta\n",
        "  - Calcular la complejidad. ¿Se puede mejorar?\n",
        "- Segundo intento: Aplicar Divide y Vencerás\n",
        "  - Calcular la complejidad. ¿Se puede mejorar?\n",
        "- Extender el algoritmo a 2D: `[(1122, 6175), (135, 4076), (7296, 2741)…`\n",
        "- Extender el algoritmo a 3D."
      ],
      "metadata": {
        "id": "bRU6yWCS5MaP"
      }
    },
    {
      "cell_type": "markdown",
      "source": [
        "## Código para Fuerza Bruta en 1D"
      ],
      "metadata": {
        "id": "yAzX_8gb5eiJ"
      }
    },
    {
      "cell_type": "code",
      "source": [
        "def closest_pair_brute_force(points):\n",
        "    \"\"\"\n",
        "    Encuentramos los dos puntos más cercanos en una lista de puntos 1D usando fuerza bruta.\n",
        "\n",
        "    Parameters:\n",
        "    points (list): Lista de números enteros.\n",
        "\n",
        "    Returns:\n",
        "    tuple: Los dos puntos más cercanos y su distancia.\n",
        "    \"\"\"\n",
        "    min_distance = float('inf')\n",
        "    closest_pair = None\n",
        "    n = len(points)\n",
        "\n",
        "    for i in range(n):\n",
        "        for j in range(i + 1, n):\n",
        "            distance = abs(points[i] - points[j])\n",
        "            if distance < min_distance:\n",
        "                min_distance = distance\n",
        "                closest_pair = (points[i], points[j])\n",
        "\n",
        "    return closest_pair, min_distance"
      ],
      "metadata": {
        "id": "1WSUNZCz5gVj"
      },
      "execution_count": null,
      "outputs": []
    },
    {
      "cell_type": "code",
      "source": [
        "# Uso del codigo...\n",
        "points_1d = [3403, 4537, 9089, 9746, 7259]\n",
        "points, min_distance = closest_pair_brute_force(points_1d)\n",
        "print('Los puntos son :' , points)\n",
        "print('La distancia entre ellos es de :' , min_distance)"
      ],
      "metadata": {
        "colab": {
          "base_uri": "https://localhost:8080/"
        },
        "id": "nEwd-JUn5tM2",
        "outputId": "2498a4d4-0dbb-4d8f-9d84-5374e003f04c"
      },
      "execution_count": null,
      "outputs": [
        {
          "output_type": "stream",
          "name": "stdout",
          "text": [
            "Los puntos son : (9089, 9746)\n",
            "La distancia entre ellos es de : 657\n"
          ]
        }
      ]
    },
    {
      "cell_type": "markdown",
      "source": [
        "### Complejidad de Fuerza Bruta\n",
        "\n",
        "La complejidad de tiempo del enfoque de fuerza bruta es $O(n^2)$ porque se comparan todos los pares posibles de puntos. Este enfoque puede mejorarse utilizando el algoritmo de Divide y Vencerás."
      ],
      "metadata": {
        "id": "PkOORNWN7ztt"
      }
    },
    {
      "cell_type": "markdown",
      "source": [
        "Código para Divide y Vencerás en 1D"
      ],
      "metadata": {
        "id": "Av4CC4Ny75Q8"
      }
    },
    {
      "cell_type": "code",
      "source": [
        "import time\n",
        "\n",
        "def closest_pair_brute_force(points):\n",
        "    \"\"\"\n",
        "    Encontramos los dos puntos más cercanos en una lista de puntos 1D usando fuerza bruta.\n",
        "\n",
        "    Parameters:\n",
        "    points (list): Lista de números enteros.\n",
        "\n",
        "    Returns:\n",
        "    tuple: Los dos puntos más cercanos y su distancia.\n",
        "    \"\"\"\n",
        "    min_distance = float('inf')\n",
        "    closest_pair = None\n",
        "    n = len(points)\n",
        "\n",
        "    for i in range(n):\n",
        "        for j in range(i + 1, n):\n",
        "            distance = abs(points[i] - points[j])\n",
        "            if distance < min_distance:\n",
        "                min_distance = distance\n",
        "                closest_pair = (points[i], points[j])\n",
        "\n",
        "    return closest_pair[0], closest_pair[1], min_distance\n",
        "\n",
        "def closest_pair_divide_and_conquer(points):\n",
        "    \"\"\"\n",
        "    Encuentra los dos puntos más cercanos en una lista de puntos 1D usando divide y vencerás.\n",
        "\n",
        "    Parameters:\n",
        "    points (list): Lista de números enteros.\n",
        "\n",
        "    Returns:\n",
        "    tuple: Los dos puntos más cercanos y su distancia.\n",
        "    \"\"\"\n",
        "    def closest_pair_recursive(sorted_points):\n",
        "        n = len(sorted_points)\n",
        "        if n <= 3:\n",
        "            return closest_pair_brute_force(sorted_points)\n",
        "\n",
        "        mid = n // 2\n",
        "        left_half = sorted_points[:mid]\n",
        "        right_half = sorted_points[mid:]\n",
        "\n",
        "        (p1, q1, d1) = closest_pair_recursive(left_half)\n",
        "        (p2, q2, d2) = closest_pair_recursive(right_half)\n",
        "\n",
        "        min_d = min(d1, d2)\n",
        "        if min_d == d1:\n",
        "            min_pair = (p1, q1)\n",
        "        else:\n",
        "            min_pair = (p2, q2)\n",
        "\n",
        "        # Check for closest pair across the split line\n",
        "        mid_point = sorted_points[mid]\n",
        "        in_strip = [point for point in sorted_points if abs(point - mid_point) < min_d]\n",
        "\n",
        "        strip_size = len(in_strip)\n",
        "        for i in range(strip_size):\n",
        "            for j in range(i + 1, strip_size):\n",
        "                if abs(in_strip[j] - in_strip[i]) >= min_d:\n",
        "                    break\n",
        "                distance = abs(in_strip[i] - in_strip[j])\n",
        "                if distance < min_d:\n",
        "                    min_d = distance\n",
        "                    min_pair = (in_strip[i], in_strip[j])\n",
        "\n",
        "        return min_pair[0], min_pair[1], min_d\n",
        "\n",
        "    sorted_points = sorted(points)\n",
        "    p1, p2, min_distance = closest_pair_recursive(sorted_points)\n",
        "    return (p1, p2), min_distance"
      ],
      "metadata": {
        "id": "UTo2QVTY77XZ"
      },
      "execution_count": null,
      "outputs": []
    },
    {
      "cell_type": "code",
      "source": [
        "# Ejemplo de uso\n",
        "points_1d = [3403, 4537, 9089, 9746, 7259]\n",
        "\n",
        "# Medir el tiempo de ejecución\n",
        "start_time = time.time()\n",
        "result = closest_pair_divide_and_conquer(points_1d)\n",
        "end_time = time.time()\n",
        "\n",
        "execution_time = end_time - start_time\n",
        "\n",
        "print(\"Resultado:\", result)\n",
        "print(\"Tiempo de ejecución:\", execution_time, \"segundos\")"
      ],
      "metadata": {
        "colab": {
          "base_uri": "https://localhost:8080/"
        },
        "id": "FNW5zsI_F8iA",
        "outputId": "11cb8d52-d8bf-420c-8f87-e72ceeeb10db"
      },
      "execution_count": null,
      "outputs": [
        {
          "output_type": "stream",
          "name": "stdout",
          "text": [
            "Resultado: ((9089, 9746), 657)\n",
            "Tiempo de ejecución: 0.00011396408081054688 segundos\n"
          ]
        }
      ]
    },
    {
      "cell_type": "markdown",
      "source": [
        "### Complejidad de Divide y Vencerás\n",
        "\n",
        "La complejidad de tiempo del algoritmo de Divide y Vencerás es $O(n \\log n)$.\n",
        "\n",
        "#### Explicación:\n",
        "\n",
        "1. **División:**\n",
        "   - Dividimos el conjunto de puntos en dos mitades, lo cual es $O(1)$.\n",
        "\n",
        "2. **Conquista:**\n",
        "   - Aplicamos el algoritmo recursivamente a cada mitad, lo que resulta en $2T(n/2)$.\n",
        "\n",
        "3. **Combinación:**\n",
        "   - Verificamos los puntos cercanos al punto medio, lo que toma $O(n)$.\n",
        "\n",
        "Combinando estos pasos, obtenemos la relación de recurrencia:\n",
        "$$ T(n) = 2T(n/2) + O(n) $$\n",
        "que se resuelve como $O(n \\log n)$.\n",
        "\n",
        "Este enfoque es más eficiente que la fuerza bruta, que tiene una complejidad de $O(n^2)$.\n",
        "\n",
        "### ¿Se puede mejorar?\n",
        "\n",
        "La complejidad $O(n \\log n)$ del algoritmo de Divide y Vencerás para encontrar los dos puntos más cercanos es la mejor posible y no se puede mejorar. Esto se debe a los límites teóricos del problema, que requieren una ordenación de los puntos, la cual tiene una complejidad de $O(n \\log n)$. Por tanto, cualquier algoritmo para este problema no puede tener una complejidad inferior a $O(n \\log n)$."
      ],
      "metadata": {
        "id": "pfZiXD6cJ72A"
      }
    },
    {
      "cell_type": "markdown",
      "source": [
        "## Extender el Algoritmo a 2D\n",
        "\n",
        "Vamos a extender el algoritmo de Divide y Vencerás para encontrar los dos puntos más cercanos en un conjunto de puntos en 2D."
      ],
      "metadata": {
        "id": "xoDVgNA5PnTn"
      }
    },
    {
      "cell_type": "code",
      "source": [
        "import math\n",
        "\n",
        "def euclidean_distance(point1, point2):\n",
        "    return math.sqrt((point1[0] - point2[0])**2 + (point1[1] - point2[1])**2)\n",
        "\n",
        "def closest_pair_brute_force_2d(points):\n",
        "    min_distance = float('inf')\n",
        "    closest_pair = None\n",
        "    n = len(points)\n",
        "\n",
        "    for i in range(n):\n",
        "        for j in range(i + 1, n):\n",
        "            distance = euclidean_distance(points[i], points[j])\n",
        "            if distance < min_distance:\n",
        "                min_distance = distance\n",
        "                closest_pair = (points[i], points[j])\n",
        "\n",
        "    return closest_pair[0], closest_pair[1], min_distance\n",
        "\n",
        "def closest_pair_divide_and_conquer_2d(points):\n",
        "    def closest_pair_recursive(sorted_points):\n",
        "        n = len(sorted_points)\n",
        "        if n <= 3:\n",
        "            return closest_pair_brute_force_2d(sorted_points)\n",
        "\n",
        "        mid = n // 2\n",
        "        left_half = sorted_points[:mid]\n",
        "        right_half = sorted_points[mid:]\n",
        "\n",
        "        (p1, q1, d1) = closest_pair_recursive(left_half)\n",
        "        (p2, q2, d2) = closest_pair_recursive(right_half)\n",
        "\n",
        "        min_d = min(d1, d2)\n",
        "        if min_d == d1:\n",
        "            min_pair = (p1, q1)\n",
        "        else:\n",
        "            min_pair = (p2, q2)\n",
        "\n",
        "        mid_point = sorted_points[mid][0]\n",
        "        in_strip = [point for point in sorted_points if abs(point[0] - mid_point) < min_d]\n",
        "\n",
        "        in_strip.sort(key=lambda x: x[1])\n",
        "        strip_size = len(in_strip)\n",
        "        for i in range(strip_size):\n",
        "            for j in range(i + 1, strip_size):\n",
        "                if abs(in_strip[j][1] - in_strip[i][1]) >= min_d:\n",
        "                    break\n",
        "                distance = euclidean_distance(in_strip[i], in_strip[j])\n",
        "                if distance < min_d:\n",
        "                    min_d = distance\n",
        "                    min_pair = (in_strip[i], in_strip[j])\n",
        "\n",
        "        return min_pair[0], min_pair[1], min_d\n",
        "\n",
        "    sorted_points = sorted(points, key=lambda x: x[0])\n",
        "    p1, p2, min_distance = closest_pair_recursive(sorted_points)\n",
        "    return (p1, p2), min_distance"
      ],
      "metadata": {
        "id": "8kNneEA7Po8Q"
      },
      "execution_count": null,
      "outputs": []
    },
    {
      "cell_type": "code",
      "source": [
        "# Probamos con una lista 2D\n",
        "points_2d = [(1122, 6175), (135, 4076), (7296, 2741)]\n",
        "print('Llos puntos y su distancia son: ', closest_pair_divide_and_conquer_2d(points_2d))"
      ],
      "metadata": {
        "colab": {
          "base_uri": "https://localhost:8080/"
        },
        "id": "DlsntMAJPtnt",
        "outputId": "7d1ced8d-af2d-424a-8f57-428bcc7e1ab5"
      },
      "execution_count": null,
      "outputs": [
        {
          "output_type": "stream",
          "name": "stdout",
          "text": [
            "Llos puntos y su distancia son:  (((135, 4076), (1122, 6175)), 2319.4762339804215)\n"
          ]
        }
      ]
    },
    {
      "cell_type": "markdown",
      "source": [
        "## Extender el Algoritmo a 3D\n",
        "\n",
        "Ahora, extenderemos el algoritmo de Divide y Vencerás para encontrar los dos puntos más cercanos en un conjunto de puntos en 3D."
      ],
      "metadata": {
        "id": "K7SKILBWP_ih"
      }
    },
    {
      "cell_type": "code",
      "source": [
        "def euclidean_distance_3d(point1, point2):\n",
        "    return math.sqrt((point1[0] - point2[0])**2 + (point1[1] - point2[1])**2 + (point1[2] - point2[2])**2)\n",
        "\n",
        "def closest_pair_brute_force_3d(points):\n",
        "    min_distance = float('inf')\n",
        "    closest_pair = None\n",
        "    n = len(points)\n",
        "\n",
        "    for i in range(n):\n",
        "        for j in range(i + 1, n):\n",
        "            distance = euclidean_distance_3d(points[i], points[j])\n",
        "            if distance < min_distance:\n",
        "                min_distance = distance\n",
        "                closest_pair = (points[i], points[j])\n",
        "\n",
        "    return closest_pair[0], closest_pair[1], min_distance\n",
        "\n",
        "def closest_pair_divide_and_conquer_3d(points):\n",
        "    def closest_pair_recursive(sorted_points):\n",
        "        n = len(sorted_points)\n",
        "        if n <= 3:\n",
        "            return closest_pair_brute_force_3d(sorted_points)\n",
        "\n",
        "        mid = n // 2\n",
        "        left_half = sorted_points[:mid]\n",
        "        right_half = sorted_points[mid:]\n",
        "\n",
        "        (p1, q1, d1) = closest_pair_recursive(left_half)\n",
        "        (p2, q2, d2) = closest_pair_recursive(right_half)\n",
        "\n",
        "        min_d = min(d1, d2)\n",
        "        if min_d == d1:\n",
        "            min_pair = (p1, q1)\n",
        "        else:\n",
        "            min_pair = (p2, q2)\n",
        "\n",
        "        mid_point = sorted_points[mid][0]\n",
        "        in_strip = [point for point in sorted_points if abs(point[0] - mid_point) < min_d]\n",
        "\n",
        "        in_strip.sort(key=lambda x: x[1])\n",
        "        strip_size = len(in_strip)\n",
        "        for i in range(strip_size):\n",
        "            for j in range(i + 1, strip_size):\n",
        "                if abs(in_strip[j][1] - in_strip[i][1]) >= min_d:\n",
        "                    break\n",
        "                distance = euclidean_distance_3d(in_strip[i], in_strip[j])\n",
        "                if distance < min_d:\n",
        "                    min_d = distance\n",
        "                    min_pair = (in_strip[i], in_strip[j])\n",
        "\n",
        "        return min_pair[0], min_pair[1], min_d\n",
        "\n",
        "    sorted_points = sorted(points, key=lambda x: x[0])\n",
        "    p1, p2, min_distance = closest_pair_recursive(sorted_points)\n",
        "    return (p1, p2), min_distance"
      ],
      "metadata": {
        "id": "M_PLTjneP-1Z"
      },
      "execution_count": null,
      "outputs": []
    },
    {
      "cell_type": "code",
      "source": [
        "# Probamos con una lista 3D\n",
        "points_3d = [(1122, 6175, 1234), (135, 4076, 5678), (7296, 2741, 9101)]\n",
        "print('Llos puntos y su distancia son: ', closest_pair_divide_and_conquer_3d(points_3d))"
      ],
      "metadata": {
        "colab": {
          "base_uri": "https://localhost:8080/"
        },
        "id": "vb2l7on7QGsL",
        "outputId": "5b372914-52ee-4398-cd10-81f3db8927da"
      },
      "execution_count": null,
      "outputs": [
        {
          "output_type": "stream",
          "name": "stdout",
          "text": [
            "Llos puntos y su distancia son:  (((135, 4076, 5678), (1122, 6175, 1234)), 5012.893974542051)\n"
          ]
        }
      ]
    }
  ]
}