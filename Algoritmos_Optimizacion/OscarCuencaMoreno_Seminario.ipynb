{
  "nbformat": 4,
  "nbformat_minor": 0,
  "metadata": {
    "colab": {
      "provenance": []
    },
    "kernelspec": {
      "name": "python3",
      "display_name": "Python 3"
    }
  },
  "cells": [
    {
      "cell_type": "markdown",
      "source": [
        "# Algoritmos de Optimización - Proyecto de Programacion\n",
        "\n",
        "Nombre: ***Oscar Patricio Cuenca Moreno*** <br>\n",
        "\n",
        "[GitHub](https://github.com/HikariJY/03MIAR_04_A_2024-25_Algoritmos-de-Optimizacion/tree/main/Actividades/Seminario01) Pendiente cambiar por el mio"
      ],
      "metadata": {
        "id": "P5AXl7X15Jv7"
      }
    },
    {
      "cell_type": "markdown",
      "source": [
        "# Enunciado del problema\n",
        "\n",
        "## Problema 3 -- Combinar Cifras y Operaciones\n",
        "\n",
        "- El problema consiste en analizar el siguiente problema y diseñar un algoritmo que lo resuelva.\n",
        "- Disponemos de las 9 cifras del 1 al 9 (excluimos el cero) y los 4 signos básicos de las operacinoes fundamentales.\n",
        "\n",
        " - Suma (+).\n",
        " - Resta (-).\n",
        " - Multiplicación (*)\n",
        " - División (/).\n",
        "\n",
        "- Debemos combinarlos alternativamente sin repetir ninguno de ellos para obtener una cantidad dada.\n",
        "\n",
        "> Un ejemplo, seria para obtener el 4: <br>\n",
        "> $4+2-6/3*1=4$\n",
        "\n",
        "Debe analizarse el problema para encontrar todos los valores enteros posibles planteando las siguientes cuestiones:\n",
        "- ¿Qué valor máximo y mínimo se pueden obtener según las condiciones del problema?\n",
        "- ¿Es posible encontrar todos los valores enteros posibles entre dicho mínimo y máximo ?\n",
        "- Nota: Es posible usar la función de python “eval” para evaluar una expresión"
      ],
      "metadata": {
        "id": "CtBrrcMp5w2_"
      }
    },
    {
      "cell_type": "markdown",
      "source": [
        "# Respuestas a las preguntas\n",
        "## ¿Qué valor máximo y mínimo se pueden obtener según las condiciones del problema?"
      ],
      "metadata": {
        "id": "kVZxwQ748SsP"
      }
    },
    {
      "cell_type": "code",
      "source": [
        "import itertools as it  # Importamos la librería itertools para poder generar las permutaciones\n",
        "\n",
        "def evaluate_expression(numbers, operators):\n",
        "    \"\"\"\n",
        "    Función que usaremos para evaluar todas las combinaciones posibles de números y operadores\n",
        "    para poder encontrar el valor mínimo y máximo, asegurándonos que las divisiones sean enteras.\n",
        "    Además, almacenaremos todos los resultados enteros encontrados.\n",
        "    \"\"\"\n",
        "    r_min, r_max = float('inf'), float('-inf')  # Inicializamos los valores mínimo y máximo\n",
        "    results = set()  # Creamos un conjunto para guardar todos los resultados enteros únicos\n",
        "\n",
        "    # Generamos todas las permutaciones posibles de 5 números y 4 operadores\n",
        "    for nums in it.permutations(numbers, 5):  # Permutaciones de números\n",
        "        for ops in it.permutations(operators, 4):  # Permutaciones de operadores\n",
        "            try:\n",
        "                # Verificamos que la división sea entera antes de evaluar la expresión\n",
        "                if nums[ops.index('/')] % nums[ops.index('/') + 1] == 0:\n",
        "                    # Construimos la expresión matemática como una cadena\n",
        "                    expression = \"\".join(f\"{nums[i]}{ops[i]}\" for i in range(4)) + str(nums[4])\n",
        "                    # Evaluamos la expresión con eval y verificamos si el resultado es entero\n",
        "                    result = eval(expression)\n",
        "                    if result.is_integer():  # Solo contamos resultados enteros\n",
        "                        result = int(result)  # Convertimos el resultado a entero\n",
        "                        results.add(result)  # Agregamos el resultado al conjunto\n",
        "                        # Actualizamos el mínimo y el máximo\n",
        "                        r_min, r_max = min(r_min, result), max(r_max, result)\n",
        "            except ZeroDivisionError:  # Si ocurre división por cero, continuamos sin detener el programa\n",
        "                continue\n",
        "\n",
        "    return r_min, r_max, results  # Devuelvemos el mínimo, máximo y el conjunto de resultados enteros\n",
        "\n",
        "# Datos de entrada\n",
        "numbers = [1, 2, 3, 4, 5, 6, 7, 8, 9]  # Lista de números disponibles\n",
        "operators = ['+', '-', '*', '/']  # Lista de operadores disponibles\n",
        "\n",
        "# Hacemos el llamado a la función para calcular el mínimo, máximo y todos los resultados enteros\n",
        "r_min, r_max, all_results = evaluate_expression(numbers, operators)\n",
        "\n",
        "# Calculamos el rango esperado de valores entre el mínimo y el máximo\n",
        "expected_values = set(range(r_min, r_max + 1))  # Creamos un conjunto con todos los valores esperados\n",
        "missing_values = expected_values - all_results  # Calculamos los valores faltantes comparando conjuntos\n",
        "\n",
        "# Mostramos los resultados obtenidos\n",
        "print(f\"El valor mínimo es: {r_min}.\")\n",
        "print(f\"El valor máximo es: {r_max}.\")\n",
        "print(f\"Total de valores enteros obtenidos: {len(all_results)}\")\n",
        "\n",
        "# Verificamos si faltan valores\n",
        "if not missing_values:\n",
        "    print(\"Todos los valores enteros entre el mínimo y el máximo son obtenibles.\")\n",
        "else:\n",
        "    print(\"Faltan los siguientes valores enteros:\")\n",
        "    print(sorted(missing_values))"
      ],
      "metadata": {
        "colab": {
          "base_uri": "https://localhost:8080/"
        },
        "id": "-LfU7R6iBQWD",
        "outputId": "b4473738-b604-480e-cec1-17050c440e64"
      },
      "execution_count": 11,
      "outputs": [
        {
          "output_type": "stream",
          "name": "stdout",
          "text": [
            "El valor mínimo es: -69.\n",
            "El valor máximo es: 77.\n",
            "Total de valores enteros obtenidos: 147\n",
            "Todos los valores enteros entre el mínimo y el máximo son obtenibles.\n"
          ]
        }
      ]
    },
    {
      "cell_type": "markdown",
      "source": [
        "## ¿Es posible encontrar todos los valores enteros posibles entre dicho mínimo y máximo ?\n",
        "\n",
        "Si es posible, obteniendo los 147 valores."
      ],
      "metadata": {
        "id": "AfZ3dsqQC1iV"
      }
    },
    {
      "cell_type": "markdown",
      "source": [
        "## ¿Cuantas posibilidades hay sin tener en cuenta las restricciones?"
      ],
      "metadata": {
        "id": "7E5Q_5dmDJ_4"
      }
    },
    {
      "cell_type": "markdown",
      "source": [
        "Dado un conjunto de números \\( numbers = \\{1, 2, 3, 4, 5, 6, 7, 8, 9\\} \\) y un conjunto de operadores \\( operators = \\{+, -, *, /\\} \\), si no imponemos restricciones sobre la repetición de números y operadores, se tienen:\n",
        "\n",
        "- **5 posiciones** para los números, donde cada posición puede tomar **cualquiera de los 9 valores**.\n",
        "- **4 posiciones** para los operadores, donde cada posición puede tomar **cualquiera de los 4 valores**.\n",
        "\n",
        "El total de combinaciones posibles se calcula como:\n",
        "\\[\n",
        "P = 9 \\times 9 \\times 9 \\times 9 \\times 9 \\times 4 \\times 4 \\times 4 \\times 4 = 9^5 \\times 4^4\n",
        "\\]\n",
        "\n",
        "Resolviendo:\n",
        "\\[\n",
        "P = 15116544\n",
        "\\]\n",
        "\n",
        "### Resultado:\n",
        "**El número total de posibilidades sin tener en cuenta las restricciones es 15,116,544.**"
      ],
      "metadata": {
        "id": "G0ClyYfIFKCk"
      }
    },
    {
      "cell_type": "code",
      "source": [
        "# Cálculo del total de combinaciones sin las restricciones\n",
        "def total_possibilities():\n",
        "    \"\"\"\n",
        "    Calculamos el número total de combinaciones posibles usando:\n",
        "    - 5 posiciones para números (conjunto de 9 elementos, permitiendo repetición).\n",
        "    - 4 posiciones para operadores (conjunto de 4 elementos, permitiendo repetición).\n",
        "\n",
        "    El cálculo sigue la fórmula: 9^5 * 4^4.\n",
        "    \"\"\"\n",
        "    numbers_pos = 9 ** 5  # 9 opciones por cada una de las 5 posiciones de números\n",
        "    operators_pos = 4 ** 4  # 4 opciones por cada una de las 4 posiciones de operadores\n",
        "\n",
        "    total = numbers_pos * operators_pos  # Combinaciones totales\n",
        "    return total\n",
        "\n",
        "# Llamada a la función y muestra del resultado\n",
        "result = total_possibilities()\n",
        "print(f\"El número total de posibilidades sin restricciones es: {result}\")"
      ],
      "metadata": {
        "colab": {
          "base_uri": "https://localhost:8080/"
        },
        "id": "mzCNOTyBFnlT",
        "outputId": "2d36220e-a40d-46fe-e4af-c5e6a9d0fa1e"
      },
      "execution_count": 12,
      "outputs": [
        {
          "output_type": "stream",
          "name": "stdout",
          "text": [
            "El número total de posibilidades sin restricciones es: 15116544\n"
          ]
        }
      ]
    },
    {
      "cell_type": "markdown",
      "source": [
        "## ¿Cuántas posibilidades hay teniendo en cuenta todas las restricciones?"
      ],
      "metadata": {
        "id": "rD8hxtt1F2D9"
      }
    },
    {
      "cell_type": "markdown",
      "source": [
        "Al considerar las restricciones del problema, debemos garantizar lo siguiente:\n",
        "\n",
        "1. **Restricciones en los números**:\n",
        "   - Seleccionamos **5 números únicos** del conjunto \\( \\{1, 2, 3, 4, 5, 6, 7, 8, 9\\} \\).  \n",
        "   Esto corresponde a una **permutación de 9 elementos tomados de 5**:\n",
        "   \\[\n",
        "   P(9, 5) = \\frac{9!}{(9-5)!} = 9 \\cdot 8 \\cdot 7 \\cdot 6 \\cdot 5 = 15120\n",
        "   \\]\n",
        "\n",
        "2. **Restricciones en los operadores**:\n",
        "   - Seleccionamos **4 operadores únicos** del conjunto \\( \\{+, -, *, /\\} \\) y los colocamos en 4 posiciones.  \n",
        "   Esto corresponde a una **permutación de 4 elementos**:\n",
        "   \\[\n",
        "   P(4, 4) = 4! = 4 \\cdot 3 \\cdot 2 \\cdot 1 = 24\n",
        "   \\]\n",
        "\n",
        "3. **Restricción de divisiones enteras**:\n",
        "   - La posición del operador división `/` debe cumplir que el número anterior sea divisible entre el siguiente número sin residuo.  \n",
        "   Esto impone restricciones adicionales que deben verificarse en cada combinación.\n",
        "\n",
        "---\n",
        "\n",
        "### Cálculo total preliminar:\n",
        "La cantidad inicial de posibilidades, sin contar aún las divisiones inválidas, es:\n",
        "\\[\n",
        "\\text{Total sin divisiones inválidas} = P(9, 5) \\cdot P(4, 4) = 15120 \\cdot 24 = 362880\n",
        "\\]\n",
        "\n",
        "Para obtener las combinaciones **válidas**, debemos filtrar únicamente las expresiones donde la división sea entera.\n",
        "\n",
        "---\n",
        "\n",
        "### Resultado final:\n",
        "La cantidad exacta de combinaciones válidas se debe obtener programáticamente al **filtrar las restricciones** en un algoritmo, asegurando que:\n",
        "1. La división sea entera cuando se use el operador `/`.\n",
        "2. Se generen todas las permutaciones posibles de números y operadores.\n",
        "\n",
        "El resultado final será un subconjunto del total **362,880 combinaciones** iniciales."
      ],
      "metadata": {
        "id": "7nYf-XmIGVA3"
      }
    },
    {
      "cell_type": "code",
      "source": [
        "import itertools as it  # Importamos itertools para generar permutaciones\n",
        "\n",
        "def possibilities_with_and_without_restrictions(numbers, operators):\n",
        "    \"\"\"\n",
        "    Calcula las combinaciones válidas en dos casos:\n",
        "    - Caso 1: Sin restricciones (todas las combinaciones se cuentan como válidas).\n",
        "    - Caso 2: Con restricciones, verificando que la división sea entera cuando aparece '/'.\n",
        "    \"\"\"\n",
        "    total_no_restrictions = 0  # Contador para combinaciones sin restricciones\n",
        "    total_with_restrictions = 0  # Contador para combinaciones con restricciones\n",
        "\n",
        "    # Generamos todas las permutaciones de 5 números únicos\n",
        "    for nums in it.permutations(numbers, 5):\n",
        "        # Generamos todas las permutaciones de 4 operadores únicos\n",
        "        for ops in it.permutations(operators, 4):\n",
        "            # Caso 1: Contamos todas las combinaciones sin restricciones\n",
        "            total_no_restrictions += 1\n",
        "\n",
        "            try:\n",
        "                # Caso 2: Aplicamos las restricciones si hay división\n",
        "                if '/' in ops:\n",
        "                    div_index = ops.index('/')  # Encuentro la posición del operador '/'\n",
        "                    if nums[div_index] % nums[div_index + 1] != 0:  # Verificamos división entera\n",
        "                        continue  # Si no cumple, no contamos esta combinación\n",
        "                # Evaluamos la expresión\n",
        "                expression = \"\".join(f\"{nums[i]}{ops[i]}\" for i in range(4)) + str(nums[4])\n",
        "                eval(expression)  # Evaluamos la expresión para confirmar validez\n",
        "                total_with_restrictions += 1\n",
        "            except ZeroDivisionError:\n",
        "                continue  # Ignoramos divisiones por cero\n",
        "\n",
        "    return total_no_restrictions, total_with_restrictions  # Devolvemos ambos resultados\n",
        "\n",
        "# Datos de entrada\n",
        "numbers = [1, 2, 3, 4, 5, 6, 7, 8, 9]  # Lista de números disponibles\n",
        "operators = ['+', '-', '*', '/']  # Lista de operadores disponibles\n",
        "\n",
        "# Llamada a la función\n",
        "no_restrictions, with_restrictions = possibilities_with_and_without_restrictions(numbers, operators)\n",
        "\n",
        "# Mostramos los resultados\n",
        "print(f\"Combinaciones sin restricciones: {no_restrictions}\")\n",
        "print(f\"Combinaciones con restricciones (división entera): {with_restrictions}\")"
      ],
      "metadata": {
        "colab": {
          "base_uri": "https://localhost:8080/"
        },
        "id": "ZnKExS3jGyrq",
        "outputId": "03316844-dcb9-4482-afb5-2ff720195cce"
      },
      "execution_count": 16,
      "outputs": [
        {
          "output_type": "stream",
          "name": "stdout",
          "text": [
            "Combinaciones sin restricciones: 362880\n",
            "Combinaciones con restricciones (división entera): 70560\n"
          ]
        }
      ]
    },
    {
      "cell_type": "markdown",
      "source": [
        "## Modelo para el espacio de soluciones\n",
        "## ¿Cual es la estructura de datos que mejor se adapta al problema? Argumentalo.(Es posible que hayas elegido una al principio y veas la necesidad de cambiar, arguentalo)"
      ],
      "metadata": {
        "id": "kpGkgAMgMMs2"
      }
    },
    {
      "cell_type": "markdown",
      "source": [
        "Para resolver el problema mediante Fuerza Bruta, resulta útil usar una lista simple que almacene los números disponibles y otra lista para los operadores. Estas listas son eficientes para acceder a los elementos y permiten realizar las permutaciones necesarias fácilmente. Ademas para la construcción y evaluación de la expresión matemática, una variable de tipo cadena de texto (str) es adecuada, ya que se puede concatenar dinámicamente y evaluar utilizando la función eval de Python para obtener el resultado.\n",
        "No ha sido necesario realizar cambios en las estructuras de datos iniciales, ya que las listas y las cadenas de texto se ajustan bien a las operaciones necesarias para resolver el problema."
      ],
      "metadata": {
        "id": "2jDL-J6_MWdD"
      }
    },
    {
      "cell_type": "markdown",
      "source": [
        "## Según el modelo para el espacio de soluciones\n",
        "## ¿Cual es la función objetivo?\n",
        "La función objetivo consiste en ejecutar un algoritmo que genere todas las combinaciones posibles de números y operadores, buscando que el resultado de la ecuación evaluada coincida con un valor dado. La diferencia entre el valor obtenido y el esperado actúa como una medida de error, permitiendo determinar qué soluciones son aceptables y mostrando la expresión matemática correspondiente.\n",
        "## ¿Es un problema de maximización o minimización?\n",
        "Se trata de un problema de minimización, ya que el objetivo es reducir al máximo el error entre el resultado calculado y el valor deseado. Sin embargo, debido a la naturaleza discreta de las operaciones, no es apropiado utilizar métodos como el descenso de gradiente para resolverlo."
      ],
      "metadata": {
        "id": "KI_4YjHePd_7"
      }
    },
    {
      "cell_type": "markdown",
      "source": [
        "## Diseña un algoritmo para resolver el problema por fuerza bruta"
      ],
      "metadata": {
        "id": "NZplYAj2P1XU"
      }
    },
    {
      "cell_type": "code",
      "source": [
        "import itertools as it  # Importo itertools para generar permutaciones\n",
        "\n",
        "def brute_force(target, numbers, operators, verbose=True):\n",
        "    \"\"\"\n",
        "    Algoritmo de Fuerza Bruta para poder encontrar las expresiones que evalúan un valor objetivo.\n",
        "    Parámetros:\n",
        "    - target: Valor que queremos obtener.\n",
        "    - numbers: Lista de números disponibles.\n",
        "    - operators: Lista de operadores disponibles.\n",
        "    - verbose: Flag para imprimir o no las soluciones encontradas.\n",
        "    \"\"\"\n",
        "    # Generamos todas las combinaciones de 5 números únicos\n",
        "    for numb in it.permutations(numbers, 5):\n",
        "        # Generamos todas las combinaciones de 4 operadores únicos\n",
        "        for oper in it.permutations(operators, 4):\n",
        "            # Construimos la expresión matemática como una cadena\n",
        "            expr = f\"{numb[0]}{oper[0]}{numb[1]}{oper[1]}{numb[2]}{oper[2]}{numb[3]}{oper[3]}{numb[4]}\"\n",
        "            try:\n",
        "                # Verificamos si la expresión coincide con el valor objetivo\n",
        "                if eval(expr) == target:\n",
        "                    if verbose:  # Si verbose es True, mostramos la solución\n",
        "                        print(f\"Solución encontrada: {expr} = {target}\")\n",
        "                    return True  # Devolvemos True porque encontré una solución válida\n",
        "            except ZeroDivisionError:\n",
        "                continue  # Ignoro divisiones por cero y paso a la siguiente combinación\n",
        "    if verbose:  # Si no se encontró ninguna solución\n",
        "        print(f\"No se encontró una expresión para {target}\")\n",
        "    return False  # Devuelvo False porque no encontré una solución válida\n",
        "\n",
        "# Datos de entrada\n",
        "numbers = [1, 2, 3, 4, 5, 6, 7, 8, 9]  # Números disponibles\n",
        "operators = ['+', '-', '*', '/']  # Operadores disponibles\n",
        "target = 69  # Valor objetivo\n",
        "\n",
        "# Llamo a la función y muestro el resultado\n",
        "result = brute_force(target=target, numbers=numbers, operators=operators)"
      ],
      "metadata": {
        "colab": {
          "base_uri": "https://localhost:8080/"
        },
        "id": "ah3hv9e8QaNn",
        "outputId": "e22b4203-2d27-4190-db76-6195c55e65e9"
      },
      "execution_count": 42,
      "outputs": [
        {
          "output_type": "stream",
          "name": "stdout",
          "text": [
            "Solución encontrada: 2/1-5+8*9 = 69\n"
          ]
        }
      ]
    },
    {
      "cell_type": "markdown",
      "source": [
        "## Calcula la complejidad del algoritmo por fuerza bruta"
      ],
      "metadata": {
        "id": "xuDZiyIhQ-IC"
      }
    },
    {
      "cell_type": "markdown",
      "source": [
        "#### Calculo de complejidad:\n",
        "\n",
        "1. **Permutaciones de números**:\n",
        "   - Seleccionamos \\( k = 5 \\) números únicos de un conjunto de tamaño \\( n \\).\n",
        "   - La cantidad de permutaciones es:\n",
        "     \\[\n",
        "     P(n, k) = \\frac{n!}{(n-k)!}\n",
        "     \\]\n",
        "     Como \\( k = 5 \\), la fórmula se simplifica a:\n",
        "     \\[\n",
        "     P(n, 5) = n \\cdot (n-1) \\cdot (n-2) \\cdot (n-3) \\cdot (n-4)\n",
        "     \\]\n",
        "     La complejidad de esta parte es **O(n^5)**, porque multiplicamos \\( n \\) decreciendo 5 veces.\n",
        "\n",
        "2. **Permutaciones de operadores**:\n",
        "   - El número total de operadores (\\( m = 4 \\)) permanece constante, y se calculan todas las permutaciones:\n",
        "     \\[\n",
        "     P(m, m) = m! = 4! = 24\n",
        "     \\]\n",
        "   - Como \\( m \\) es constante, esta parte tiene complejidad **O(1)**.\n",
        "\n",
        "3. **Construcción y evaluación de la expresión**:\n",
        "   - La concatenación de números y operadores, así como la evaluación de la expresión, se realiza en tiempo constante **O(1)**.\n",
        "\n",
        "---\n",
        "\n",
        "#### Complejidad total:\n",
        "\n",
        "Multiplicamos las permutaciones de números (\\( O(n^5) \\)) por las permutaciones de operadores (\\( O(1) \\)):\n",
        "\n",
        "\\[\n",
        "O(T(n)) = O(n^5) \\cdot O(1) = O(n^5)\n",
        "\\]\n",
        "\n",
        "---\n",
        "\n",
        "### Finalmente:\n",
        "\n",
        "La **complejidad del algoritmo por fuerza bruta** en función de \\( n \\), el tamaño del conjunto de números, es:\n",
        "\n",
        "\\[\n",
        "O(n^5)\n",
        "\\]\n",
        "\n",
        "Esto asume que el número de operadores \\( m \\) es constante (\\( m = 4 \\)). Si \\( m \\) creciera, su complejidad también debería considerarse en la fórmula."
      ],
      "metadata": {
        "id": "w603NZKKSTDS"
      }
    },
    {
      "cell_type": "markdown",
      "source": [
        "## Diseña un algoritmo que mejore la complejidad del algortimo por fuerza bruta. Argumenta porque crees que mejora el algoritmo por fuerza bruta"
      ],
      "metadata": {
        "id": "-TC7j-m5TK1d"
      }
    },
    {
      "cell_type": "code",
      "source": [
        "def branching_pruning(target, numbers=None, operators=None, expr='', idx=0, verbose=True):\n",
        "    \"\"\"\n",
        "    Algoritmo de Ramificación y Poda para encontrar expresiones válidas que igualen el valor objetivo.\n",
        "    Parámetros:\n",
        "    - target: Valor objetivo que queremos encontrar.\n",
        "    - numbers: Lista de números disponibles.\n",
        "    - operators: Lista de operadores disponibles.\n",
        "    - expr: Expresión matemática parcial.\n",
        "    - idx: Índice actual en la construcción de la expresión.\n",
        "    - verbose: Si True, imprime las soluciones encontradas.\n",
        "    \"\"\"\n",
        "    if numbers is None:\n",
        "        numbers = [1, 2, 3, 4, 5, 6, 7, 8, 9]\n",
        "    if operators is None:\n",
        "        operators = ['+', '-', '*', '/']\n",
        "\n",
        "    try:\n",
        "        # Caso base: Si completamos la expresión (idx > 8), la evaluamos\n",
        "        if idx > 8:\n",
        "            if eval(expr) == target:  # Evaluación de la expresión completa\n",
        "                if verbose:\n",
        "                    print(f\"{expr} = {target}\")\n",
        "                return True\n",
        "            return False\n",
        "\n",
        "        # Si el índice es PAR -> Añadimos un número\n",
        "        if idx % 2 == 0:\n",
        "            for num in numbers:\n",
        "                new_expr = expr + str(num)  # Construimos la nueva expresión\n",
        "                new_numbers = [x for x in numbers if x != num]  # Quitamos el número usado\n",
        "\n",
        "                # Validación especial para divisiones\n",
        "                if '/' in expr:\n",
        "                    idx_div = expr.find('/')\n",
        "                    prev_num = int(expr[idx_div - 1])  # Número anterior a la división\n",
        "\n",
        "                    # Verificar divisiones exactas\n",
        "                    if prev_num % num != 0:\n",
        "                        continue  # Poda: descartamos la expresión si la división no es exacta\n",
        "\n",
        "                    # Poda por error grande\n",
        "                    if abs(eval(new_expr) - target) > 8:\n",
        "                        continue\n",
        "\n",
        "                # Llamada recursiva\n",
        "                if branching_pruning(target, new_numbers, operators, new_expr, idx + 1, verbose):\n",
        "                    return True\n",
        "\n",
        "        # Si el índice es IMPAR -> Añadimos un operador\n",
        "        else:\n",
        "            for op in operators:\n",
        "                new_expr = expr + op  # Añadimos el operador a la expresión\n",
        "                new_operators = [x for x in operators if x != op]  # Quitamos el operador usado\n",
        "\n",
        "                # Llamada recursiva\n",
        "                if branching_pruning(target, numbers, new_operators, new_expr, idx + 1, verbose):\n",
        "                    return True\n",
        "\n",
        "    except ZeroDivisionError:  # Manejo seguro de divisiones por cero\n",
        "        return False\n",
        "\n",
        "    return False\n",
        "\n",
        "\n",
        "# Llamada al algoritmo\n",
        "target = 69\n",
        "branching_pruning(target)"
      ],
      "metadata": {
        "colab": {
          "base_uri": "https://localhost:8080/"
        },
        "id": "I7c4WojuUVae",
        "outputId": "ab1478bf-0604-4f60-a1b7-568cca4eb192"
      },
      "execution_count": 26,
      "outputs": [
        {
          "output_type": "stream",
          "name": "stdout",
          "text": [
            "2+8*9-5/1 = 69\n"
          ]
        },
        {
          "output_type": "execute_result",
          "data": {
            "text/plain": [
              "True"
            ]
          },
          "metadata": {},
          "execution_count": 26
        }
      ]
    },
    {
      "cell_type": "markdown",
      "source": [
        "Este algoritmo mejora el enfoque de fuerza bruta al aplicar ramificación y poda para reducir el espacio de búsqueda. La ramificación organiza la construcción de la expresión alternando números y operadores, garantizando combinaciones válidas, mientras que la poda descarta ramas innecesarias de manera temprana al verificar que las divisiones sean exactas y eliminando aquellas expresiones parciales cuyo resultado se aleja demasiado del objetivo. Esto optimiza el tiempo de ejecución al evitar evaluaciones redundantes y garantiza que solo se consideren caminos potencialmente válidos."
      ],
      "metadata": {
        "id": "lVmafX8jYbgc"
      }
    },
    {
      "cell_type": "markdown",
      "source": [
        "### Calcula la complejidad del algoritmo"
      ],
      "metadata": {
        "id": "4CuhoCNTYmUI"
      }
    },
    {
      "cell_type": "code",
      "source": [
        "evaluated = 0  # Contador de combinaciones evaluadas\n",
        "pruned = 0     # Contador de combinaciones podadas\n",
        "\n",
        "def branching_pruning(target, numbers=None, operators=None, expr='', idx=0, verbose=True):\n",
        "    global evaluated, pruned\n",
        "\n",
        "    try:\n",
        "        if idx > 8:  # Evaluamos la expresión completa\n",
        "            evaluated += 1\n",
        "            if eval(expr) == target:\n",
        "                if verbose:\n",
        "                    print(f\"{expr} = {target}\")\n",
        "                return True\n",
        "            return False\n",
        "\n",
        "        if idx % 2 == 0:  # Añadir un número\n",
        "            for num in numbers:\n",
        "                new_expr = expr + str(num)\n",
        "                new_numbers = [x for x in numbers if x != num]\n",
        "\n",
        "                # Verificamos división exacta\n",
        "                if '/' in expr:\n",
        "                    idx_div = expr.find('/')\n",
        "                    prev_num = int(expr[idx_div - 1])\n",
        "                    if prev_num % num != 0:\n",
        "                        pruned += 1\n",
        "                        continue\n",
        "\n",
        "                # Llamada recursiva\n",
        "                if branching_pruning(target, new_numbers, operators, new_expr, idx + 1, verbose):\n",
        "                    return True\n",
        "\n",
        "        else:  # Añadir un operador\n",
        "            for op in operators:\n",
        "                new_expr = expr + op\n",
        "                new_operators = [x for x in operators if x != op]\n",
        "\n",
        "                # Llamada recursiva\n",
        "                if branching_pruning(target, numbers, new_operators, new_expr, idx + 1, verbose):\n",
        "                    return True\n",
        "\n",
        "    except ZeroDivisionError:\n",
        "        pruned += 1\n",
        "        return False\n",
        "\n",
        "    return False\n",
        "\n",
        "# Datos de entrada\n",
        "numbers = [1, 2, 3, 4, 5, 6, 7, 8, 9]\n",
        "operators = ['+', '-', '*', '/']\n",
        "target = 69\n",
        "\n",
        "evaluated, pruned = 0, 0  # Reiniciamos los contadores\n",
        "branching_pruning(target, numbers, operators)\n",
        "print(f\"Combinaciones evaluadas: {evaluated}\")\n",
        "print(f\"Ramas podadas: {pruned}\")"
      ],
      "metadata": {
        "colab": {
          "base_uri": "https://localhost:8080/"
        },
        "id": "RdqOt2K5Zghe",
        "outputId": "4f64b13d-4eaa-47bb-a3d8-a316ce96b528"
      },
      "execution_count": 27,
      "outputs": [
        {
          "output_type": "stream",
          "name": "stdout",
          "text": [
            "2+8*9-5/1 = 69\n",
            "Combinaciones evaluadas: 1767\n",
            "Ramas podadas: 15703\n"
          ]
        }
      ]
    },
    {
      "cell_type": "markdown",
      "source": [
        "El espacio de búsqueda original en el enfoque de **fuerza bruta** tiene una complejidad de \\( O(n^5) \\), correspondiente a todas las combinaciones posibles de números y operadores.\n",
        "\n",
        "Al aplicar **ramificación y poda**, el número de combinaciones evaluadas se reduce considerablemente. A partir de los resultados obtenidos:\n",
        "\n",
        "- **Combinaciones totales (fuerza bruta):** \\( 362880 \\)\n",
        "- **Combinaciones evaluadas:** \\( 1767 \\)\n",
        "- **Proporción de poda:**  \n",
        "  \\[\n",
        "  \\text{Proporción} = \\frac{1767}{362880} \\approx 0.00487\n",
        "  \\]\n",
        "\n",
        "Usando esta proporción para ajustar la complejidad, tenemos:\n",
        "\\[\n",
        "n^k = 0.00487 \\cdot n^5\n",
        "\\]\n",
        "Tomando logaritmos en base \\( n = 9 \\), se obtiene:\n",
        "\\[\n",
        "k = 5 + \\frac{\\log(0.00487)}{\\log(9)} \\approx 2.58\n",
        "\\]\n",
        "\n",
        "---\n",
        "\n",
        "### **Resultado**\n",
        "La complejidad del algoritmo de **ramificación y poda** se reduce aproximadamente a:\n",
        "\\[\n",
        "O(n^{2.58})\n",
        "\\]\n",
        "\n",
        "Esto representa una **mejora significativa** respecto a la complejidad original de \\( O(n^5) \\) del enfoque de fuerza bruta."
      ],
      "metadata": {
        "id": "_h2zbY20abPV"
      }
    },
    {
      "cell_type": "markdown",
      "source": [
        "### Según el problema (y tenga sentido), diseña un juego de datos de entrada aleatorios"
      ],
      "metadata": {
        "id": "W0GsAyNPasD1"
      }
    },
    {
      "cell_type": "code",
      "source": [
        "import numpy as np\n",
        "import random\n",
        "\n",
        "def generar_juego_datos():\n",
        "    \"\"\"\n",
        "    Genera un conjunto de datos aleatorios para el problema:\n",
        "    - 5 números únicos del 1 al 9.\n",
        "    - 4 operadores seleccionados aleatoriamente con repetición.\n",
        "    - 10 valores objetivo aleatorios entre el mínimo (-69) y el máximo (77) conocidos.\n",
        "    \"\"\"\n",
        "    # Generamos los 5 números únicos del 1 al 9\n",
        "    numeros = [1,2,3,4,5,6,7,8,9]\n",
        "\n",
        "    # Generamos 4 operadores aleatorios permitiendo repetición\n",
        "    operadores = ['+', '-', '*', '/']\n",
        "\n",
        "    # Generamos 10 valores objetivo aleatorios entre el mínimo y el máximo conocidos\n",
        "    all_ints = np.arange(-69, 78)  # Rango de valores enteros posibles\n",
        "    valores_objetivo = np.random.choice(all_ints, size=10, replace=False)  # 15 valores únicos\n",
        "\n",
        "    # Mostrar los datos generados\n",
        "    print(\"Juego de datos aleatorio generado:\")\n",
        "    print(f\"Números: {numeros}\")\n",
        "    print(f\"Operadores: {operadores}\")\n",
        "    print(f\"Valores objetivo: {valores_objetivo.tolist()}\")\n",
        "\n",
        "    return numeros, operadores, valores_objetivo\n",
        "\n",
        "# Generar y mostrar el juego de datos\n",
        "numeros, operadores, valores_objetivo = generar_juego_datos()"
      ],
      "metadata": {
        "colab": {
          "base_uri": "https://localhost:8080/"
        },
        "id": "Kian66kabNhM",
        "outputId": "d6b23a4d-780b-4aa3-8d58-b128425ed5bb"
      },
      "execution_count": 47,
      "outputs": [
        {
          "output_type": "stream",
          "name": "stdout",
          "text": [
            "Juego de datos aleatorio generado:\n",
            "Números: [1, 2, 3, 4, 5, 6, 7, 8, 9]\n",
            "Operadores: ['+', '-', '*', '/']\n",
            "Valores objetivo: [16, -30, 31, -56, -60, -50, 3, 51, 28, -15]\n"
          ]
        }
      ]
    },
    {
      "cell_type": "markdown",
      "source": [
        "### Aplica el algoritmo al juego de datos generado"
      ],
      "metadata": {
        "id": "454ccklXbmYA"
      }
    },
    {
      "cell_type": "code",
      "source": [
        "import time\n",
        "\n",
        "# Aplicación del Algoritmo de Fuerza Bruta\n",
        "print(\"\\n### Ejecución del Algoritmo de Fuerza Bruta ###\")\n",
        "start_time = time.time()  # Tiempo inicial\n",
        "\n",
        "not_found = []  # Lista de valores no encontrados\n",
        "for target in valores_objetivo:  # Recorremos cada valor objetivo generado\n",
        "    res = brute_force(target=target, numbers=numeros.copy(), operators=operadores.copy(), verbose=True)\n",
        "    if not res:\n",
        "        not_found.append(target)\n",
        "\n",
        "if not_found:\n",
        "    print(f\"No se encontraron todos los valores enteros: {not_found}.\")\n",
        "else:\n",
        "    print(\"Se encontraron todos los valores enteros.\")\n",
        "\n",
        "execution_time = time.time() - start_time  # Tiempo total de ejecución\n",
        "print(f\"El tiempo de Fuerza Bruta fue: {execution_time:.2f} s.\")\n",
        "\n",
        "# Aplicación del Algoritmo de Ramificación y Poda\n",
        "print(\"\\n### Ejecución del Algoritmo de Ramificación y Poda ###\")\n",
        "start_time = time.time()  # Tiempo inicial\n",
        "\n",
        "not_found = []  # Reiniciamos la lista de valores no encontrados\n",
        "for target in valores_objetivo:  # Recorremos cada valor objetivo generado\n",
        "    res = branching_pruning(target=target, numbers=numeros.copy(), operators=operadores.copy(), verbose=True)\n",
        "    if not res:\n",
        "        not_found.append(target)\n",
        "\n",
        "if not_found:\n",
        "    print(f\"No se encontraron todos los valores enteros: {not_found}.\")\n",
        "else:\n",
        "    print(\"Se encontraron todos los valores enteros.\")\n",
        "\n",
        "execution_time = time.time() - start_time  # Tiempo total de ejecución\n",
        "print(f\"El tiempo de Ramificación y Poda fue: {execution_time:.2f} s.\")"
      ],
      "metadata": {
        "colab": {
          "base_uri": "https://localhost:8080/"
        },
        "id": "lXsMoSfOcuSs",
        "outputId": "92178cf1-e4f0-44a2-b6ff-a11ce99d65d8"
      },
      "execution_count": 48,
      "outputs": [
        {
          "output_type": "stream",
          "name": "stdout",
          "text": [
            "\n",
            "### Ejecución del Algoritmo de Fuerza Bruta ###\n",
            "Solución encontrada: 1-3+4/2*9 = 16\n",
            "Solución encontrada: 1-5*7+8/2 = -30\n",
            "Solución encontrada: 1+4*8-6/3 = 31\n",
            "Solución encontrada: 2/1+5-7*9 = -56\n",
            "Solución encontrada: 1+4/2-7*9 = -60\n",
            "Solución encontrada: 2/1+4-7*8 = -50\n",
            "Solución encontrada: 1-2+3/6*8 = 3\n",
            "Solución encontrada: 1+6*9-8/2 = 51\n",
            "Solución encontrada: 1+5*6-9/3 = 28\n",
            "Solución encontrada: 1+2-6/3*9 = -15\n",
            "Se encontraron todos los valores enteros.\n",
            "El tiempo de Fuerza Bruta fue: 2.22 s.\n",
            "\n",
            "### Ejecución del Algoritmo de Ramificación y Poda ###\n",
            "1-3+9*4/2 = 16\n",
            "1+5-9*8/2 = -30\n",
            "1+4*8-6/3 = 31\n",
            "2+5-7*9/1 = -56\n",
            "1-7*9+4/2 = -60\n",
            "2+4-7*8/1 = -50\n",
            "1+6-2*8/4 = 3\n",
            "1+6*9-8/2 = 51\n",
            "1+5*6-9/3 = 28\n",
            "1+2-6*9/3 = -15\n",
            "Se encontraron todos los valores enteros.\n",
            "El tiempo de Ramificación y Poda fue: 0.17 s.\n"
          ]
        }
      ]
    },
    {
      "cell_type": "markdown",
      "source": [
        "### Enumera las referencias que has utilizado(si ha sido necesario) para llevar a cabo el trabajo\n",
        "\n",
        "- Universidad Internacional de Valencia (VIU).  \n",
        "  *Material de Algoritmos de Optimización*. 2024. Disponible en la plataforma Learn VIU.  \n",
        "  [https://learn.universidadviu.com](https://learn.universidadviu.com)\n"
      ],
      "metadata": {
        "id": "WqOWOgeygi6y"
      }
    },
    {
      "cell_type": "markdown",
      "source": [
        "### Describe brevemente las lineas de como crees que es posible avanzar en el estudio del problema. Ten en cuenta incluso posibles variaciones del problema y/o variaciones al alza del tamaño\n",
        "\n",
        "**Optimización de algoritmos**: Incorporar técnicas como **memoización** o heurísticas para reducir el espacio de búsqueda.  \n",
        "**Ampliación del problema**: Analizar el comportamiento al **aumentar el número de elementos** o introducir operadores adicionales como potencias (^) o módulo (%).  \n",
        "**Metaheurísticas**: Explorar métodos como **algoritmos genéticos** para soluciones aproximadas en problemas de mayor tamaño.  \n",
        "**Paralelización**: Adaptar los algoritmos a entornos **paralelos o distribuidos** para mejorar el rendimiento.  \n",
        "**Variaciones del problema**: Permitir la **repetición de números y operadores** o aplicar restricciones adicionales."
      ],
      "metadata": {
        "id": "gl6R3ZcXiIqN"
      }
    }
  ]
}