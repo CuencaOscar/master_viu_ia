{
 "cells": [
  {
   "cell_type": "markdown",
   "metadata": {},
   "source": [
    "# Actividad 2\n",
    "\n",
    "## Objetivo:\n",
    "\n",
    "Diseñar programas y funciones en Python que contengan datos estructurados diccionarios (dict) y\n",
    "DataFrames de Pandas."
   ]
  },
  {
   "cell_type": "markdown",
   "metadata": {},
   "source": [
    "## Diccionarios"
   ]
  },
  {
   "cell_type": "markdown",
   "metadata": {},
   "source": [
    "## 1. Frecuencia de pares.\n",
    "Diseña una función dpar(M), en que, dada una lista M de números enteros\n",
    "positivos, devuelva un diccionario donde se muestre la frecuencia de aparición de los números\n",
    "pares de M. Ejemplo en el doctring siguiente:\n",
    "\n",
    "```python\n",
    "def dpar(M):\n",
    "    '''\n",
    "    >>> M = [12, 19, 19, 18, 18, 16, 18, 13, 19, 18, 12, 18, 11, 20, 14,\\\n",
    "    14, 20, 20, 20, 16, 13, 15, 19, 14, 12]\n",
    "    >>> b = dpar(M)\n",
    "    >>> b == {12: 3, 18: 5, 16: 2, 20: 4, 14: 3}\n",
    "    True\n",
    "    '''"
   ]
  },
  {
   "cell_type": "code",
   "execution_count": 1,
   "metadata": {},
   "outputs": [],
   "source": [
    "def dpar(M):\n",
    "    \"\"\"\n",
    "    Calcula la frecuencia de aparición de los números pares en una lista M de números enteros positivos.\n",
    "\n",
    "    Parameters:\n",
    "        M (list): Lista de números enteros positivos.\n",
    "\n",
    "    Returns:\n",
    "        dict: Diccionario donde las claves son los números pares y los valores son la frecuencia de aparición.\n",
    "    \"\"\"\n",
    "    frequency = {}\n",
    "    for num in M:\n",
    "        if num % 2 == 0:\n",
    "            frequency[num] = frequency.get(num, 0) + 1\n",
    "    return frequency"
   ]
  },
  {
   "cell_type": "markdown",
   "metadata": {},
   "source": [
    "Pruebas Ejercicio 1"
   ]
  },
  {
   "cell_type": "code",
   "execution_count": 3,
   "metadata": {},
   "outputs": [
    {
     "name": "stdout",
     "output_type": "stream",
     "text": [
      "Resultado de test:  {12: 3, 18: 5, 16: 2, 20: 4, 14: 3}\n"
     ]
    }
   ],
   "source": [
    "M = [12, 19, 19, 18, 18, 16, 18, 13, 19, 18, 12, 18, 11, 20, 14, 14, 20, 20, 20, 16, 13, 15, 19, 14, 12]\n",
    "b = dpar(M)\n",
    "print('Resultado de test: ', b)"
   ]
  },
  {
   "cell_type": "markdown",
   "metadata": {},
   "source": [
    "Hemos comprobado los resultados esperados."
   ]
  },
  {
   "cell_type": "markdown",
   "metadata": {},
   "source": [
    "## 2. Temperaturas ciudades.\n",
    "Se tienen las temperaturas de ciudades durante los primeros 4 meses\n",
    "del año en una lista de listas, donde cada lista representa la información de una ciudad (nombre y\n",
    "luego las temperaturas). Diseña una función TempMaxMin(lst) en que, dada una lista de listas\n",
    "como que la que se presenta, devuelva un diccionario con los nombres de las ciudades como claves\n",
    "y como valores una lista con las temperaturas máxima y mínima. Ejemplo de lista anidada:\n",
    "lst_ciudad.\n",
    "\n",
    "```python\n",
    "lst_ciudad = [['Londres', 3.4, 6.3, 10.5, 6.8], ['Oslo', -3.8, -5.0, 5.1, 4.2],\n",
    " ['Berlin', 7.5, 4.1, 12.3, 13.0], ['Málaga', 14.7, 12.3, 19.5, 18.4]]\n",
    "def TempMaxMin(lst):\n",
    "    \"\"\"\n",
    "    >>> lst_ciudad = [['Londres', 3.4, 6.3, 10.5, 6.8], \\\n",
    "    ['Oslo', -3.8, -5.0, 5.1, 4.2], ['Berlin', 7.5, 4.1, 12.3, 13.0], \\\n",
    "    ['Málaga', 14.7, 12.3, 19.5, 18.4]]\n",
    "    >>> M = TempMaxMin(lst_ciudad)\n",
    "    >>> M == {'Berlin': [13.0, 4.1], 'Londres': [10.5, 3.4], \\\n",
    "    'Málaga': [19.5, 12.3], 'Oslo': [5.1, -5.0]}\n",
    "    True\n",
    "    \"\"\""
   ]
  },
  {
   "cell_type": "code",
   "execution_count": 4,
   "metadata": {},
   "outputs": [],
   "source": [
    "def TempMaxMin(lst):\n",
    "    \"\"\"\n",
    "    Calcula las temperaturas máxima y mínima de cada ciudad y las devuelve en un diccionario.\n",
    "\n",
    "    Parameters:\n",
    "        lst (list): Lista de listas donde cada lista representa la información de una ciudad.\n",
    "\n",
    "    Returns:\n",
    "        dict: Diccionario con los nombres de las ciudades como claves y las temperaturas máxima y mínima como valores.\n",
    "    \"\"\"\n",
    "    temp_dict = {}\n",
    "    for ciudad in lst:\n",
    "        nombre = ciudad[0]\n",
    "        temperaturas = ciudad[1:]\n",
    "        temp_max = max(temperaturas)\n",
    "        temp_min = min(temperaturas)\n",
    "        temp_dict[nombre] = [temp_max, temp_min]\n",
    "    return temp_dict"
   ]
  },
  {
   "cell_type": "markdown",
   "metadata": {},
   "source": [
    "Pruebas Ejercicio 2"
   ]
  },
  {
   "cell_type": "code",
   "execution_count": 5,
   "metadata": {},
   "outputs": [
    {
     "name": "stdout",
     "output_type": "stream",
     "text": [
      "Resultado de test:  {'Londres': [10.5, 3.4], 'Oslo': [5.1, -5.0], 'Berlin': [13.0, 4.1], 'Málaga': [19.5, 12.3]}\n"
     ]
    }
   ],
   "source": [
    "lst_ciudad = [['Londres', 3.4, 6.3, 10.5, 6.8], ['Oslo', -3.8, -5.0, 5.1, 4.2],\n",
    "              ['Berlin', 7.5, 4.1, 12.3, 13.0], ['Málaga', 14.7, 12.3, 19.5, 18.4]]\n",
    "M = TempMaxMin(lst_ciudad)\n",
    "print('Resultado de test: ', M)"
   ]
  },
  {
   "cell_type": "markdown",
   "metadata": {},
   "source": [
    "Hemos comprobado los resultados esperados."
   ]
  },
  {
   "cell_type": "markdown",
   "metadata": {},
   "source": [
    "## 3. Temperaturas nevada.\n",
    " Se dispone de dos diccionarios. En uno de ellos (ej. dPersC) se guardan,\n",
    "como claves, nombres de personas y como valores los nombres de las ciudades donde residen; y\n",
    "en el otro (ej. dCiudT) se guardan, como claves, nombres de ciudades y como valores las\n",
    "respectivas temperaturas de esas ciudades (en ºC), medidas el día de la primera nevada del año.\n",
    "Diseña una función PersMayTemp(dPersC, dCiudT) en que, dados dos diccionarios como los\n",
    "descritos, devuelva una lista con los nombres de las personas que residen en ciudades en las cuales\n",
    "la temperatura estuvo por debajo de 0ºC el día de esa primera nevada de este año. La lista\n",
    "resultante debe estar ordenada alfabéticamente. En caso de no haber ciudades con temperaturas\n",
    "bajo cero, se devolverá la lista vacía.\n",
    "Nota: se considera que toda ciudad del diccionario dPersC está en dCiudT. Ejemplo:\n",
    "\n",
    "```python\n",
    "def PersMayTemp(dPersC, dCiudT):\n",
    "    \"\"\"\n",
    "    >>> dCi = {'Manchester': 1.1, 'Madrid': -8.9, 'Gava': 4, \\\n",
    "    'Pobla de Segur': -5.6, 'Lleida': -3.2, 'Elche': 2.1, \\\n",
    "    'Burgos': -6.0, 'Sant Boi': 4.5}\n",
    "    >>> dPe = {'Pepe': 'Manchester', 'Lionel': 'Gava', 'Mike': 'Sant Boi', \\\n",
    "    'Puyol': 'Pobla de Segur', 'Jaime': 'Elche', 'Sergi': 'Lleida',\\\n",
    "    'Ernesto': 'Madrid', 'Carlos': 'Burgos'}\n",
    "    >>> PersMayTemp(dPe, dCi)\n",
    "    ['Carlos', 'Ernesto', 'Puyol', 'Sergi']\n",
    "    \"\"\""
   ]
  },
  {
   "cell_type": "code",
   "execution_count": 7,
   "metadata": {},
   "outputs": [],
   "source": [
    "def PersMayTemp(dPersC, dCiudT):\n",
    "    \"\"\"\n",
    "    Devuelve una lista con los nombres de las personas que residen en ciudades donde la temperatura estuvo por debajo de 0°C el día de la primera nevada del año.\n",
    "\n",
    "    Parameters:\n",
    "        dPersC (dict): Diccionario que mapea nombres de personas a nombres de ciudades donde residen.\n",
    "        dCiudT (dict): Diccionario que mapea nombres de ciudades a temperaturas registradas el día de la primera nevada del año.\n",
    "\n",
    "    Returns:\n",
    "        list: Lista de nombres de personas que residen en ciudades con temperaturas bajo cero.\n",
    "    \"\"\"\n",
    "    people_below_zero = []\n",
    "    for person, city in dPersC.items():\n",
    "        temperature = dCiudT.get(city)\n",
    "        if temperature is not None and temperature < 0:\n",
    "            people_below_zero.append(person)\n",
    "    return sorted(people_below_zero)"
   ]
  },
  {
   "cell_type": "markdown",
   "metadata": {},
   "source": [
    "Pruebas Ejercicio 3"
   ]
  },
  {
   "cell_type": "code",
   "execution_count": 8,
   "metadata": {},
   "outputs": [
    {
     "name": "stdout",
     "output_type": "stream",
     "text": [
      "Resultado de test:  ['Carlos', 'Ernesto', 'Puyol', 'Sergi']\n"
     ]
    }
   ],
   "source": [
    "dCiudT = {'Manchester': 1.1, 'Madrid': -8.9, 'Gava': 4,\n",
    "          'Pobla de Segur': -5.6, 'Lleida': -3.2, 'Elche': 2.1,\n",
    "          'Burgos': -6.0, 'Sant Boi': 4.5}\n",
    "dPersC = {'Pepe': 'Manchester', 'Lionel': 'Gava', 'Mike': 'Sant Boi',\n",
    "          'Puyol': 'Pobla de Segur', 'Jaime': 'Elche', 'Sergi': 'Lleida',\n",
    "          'Ernesto': 'Madrid', 'Carlos': 'Burgos'}\n",
    "print('Resultado de test: ', PersMayTemp(dPersC, dCiudT))"
   ]
  },
  {
   "cell_type": "markdown",
   "metadata": {},
   "source": [
    "Hemos comprobado los resultados esperados."
   ]
  },
  {
   "cell_type": "markdown",
   "metadata": {},
   "source": [
    "## 4. Hipertensión.\n",
    "Se dispone de un diccionario de personas con su presión arterial. En cada elemento\n",
    "del diccionario la clave es el nombre de la persona y el valor es una lista con la edad y las presiones\n",
    "sistólica (alta) y diastólica (baja). Si consideramos que una persona sufre de hipertensión si la\n",
    "presión sistólica es mayor o igual a 140 mmHg o la diastólica es mayor o igual a 90 mmHg, diseña\n",
    "una función lst_hiper(dic, edad) en que, dado un diccionario dic como el descrito y una edad,\n",
    "devuelva la lista de los nombres de las personas menores de esa edad que sufren hipertensión\n",
    "arterial.\n",
    "Se valorará devolver la lista de nombres ordenada alfabéticamente.\n",
    "\n",
    "```python\n",
    "def lst_hiper(dicc, edad):\n",
    "    \"\"\"\n",
    "    >>> dpers = {'Maria': [40, 135, 90],'Nuria': [63, 141, 92], \\\n",
    "    'Jose': [47, 110, 59], 'Luis': [49, 146, 94], \\\n",
    "    'Oriol': [52, 130, 89], 'Carlos': [65, 125, 89], \\\n",
    "    'Pepe': [70, 130, 92] }\n",
    "    >>> lst_hiper(dpers, 45)\n",
    "    ['Maria']\n",
    "    >>> lst_hiper(dpers, 70)\n",
    "    ['Luis', 'Maria', 'Nuria']"
   ]
  },
  {
   "cell_type": "code",
   "execution_count": 9,
   "metadata": {},
   "outputs": [],
   "source": [
    "def lst_hiper(dicc, edad):\n",
    "    \"\"\"\n",
    "    Returns a list of names of people under the given age who suffer from hypertension.\n",
    "\n",
    "    Parameters:\n",
    "        dicc (dict): Dictionary mapping people's names to their age and blood pressure readings.\n",
    "        edad (int): Maximum age to consider.\n",
    "\n",
    "    Returns:\n",
    "        list: List of names of people suffering from hypertension under the given age, sorted alphabetically.\n",
    "    \"\"\"\n",
    "    hiper_names = []\n",
    "    for name, data in dicc.items():\n",
    "        if data[0] < edad and (data[1] >= 140 or data[2] >= 90):\n",
    "            hiper_names.append(name)\n",
    "    return sorted(hiper_names)"
   ]
  },
  {
   "cell_type": "markdown",
   "metadata": {},
   "source": [
    "Pruebas Ejercicio 4"
   ]
  },
  {
   "cell_type": "code",
   "execution_count": 10,
   "metadata": {},
   "outputs": [
    {
     "name": "stdout",
     "output_type": "stream",
     "text": [
      "Resultado de test:  ['Maria']\n",
      "Resultado de test:  ['Luis', 'Maria', 'Nuria']\n"
     ]
    }
   ],
   "source": [
    "dpers = {'Maria': [40, 135, 90], 'Nuria': [63, 141, 92],\n",
    "         'Jose': [47, 110, 59], 'Luis': [49, 146, 94],\n",
    "         'Oriol': [52, 130, 89], 'Carlos': [65, 125, 89],\n",
    "         'Pepe': [70, 130, 92]}\n",
    "print('Resultado de test: ', lst_hiper(dpers, 45))\n",
    "print('Resultado de test: ', lst_hiper(dpers, 70))"
   ]
  },
  {
   "cell_type": "markdown",
   "metadata": {},
   "source": [
    "Hemos comprobado los resultados esperados."
   ]
  },
  {
   "cell_type": "markdown",
   "metadata": {},
   "source": [
    "## 5.  Nivel de potasio en sangre.\n",
    "Se tiene un diccionario con los valores de concentración de potasio\n",
    "en sangre ([K+]) de un grupo pacientes medidos antes de entrar a terapia de hemodiálisis. La clave\n",
    "es el nombre del paciente y el valor es la [K+] (en mmol/L). Además, se tiene una lista del tipo\n",
    "[valor1, valor2, valor3, valor4] con los distintos valores que clasifican la condición clínica en que\n",
    "están los pacientes, de acuerdo a las concentraciones de potasio en sangre ([K+]). Estos valores\n",
    "dependen del tipo de población (niños, adultos, etc.).\n",
    "La condición clínica del paciente sigue el siguiente criterio de clasificación:\n",
    "- Si el valor de [K+] es menor que valor1 indica 'hipokalemia crítica',\n",
    "- si es mayor o igual al valor1 y menor que el valor2 sería 'hipokalemia leve',\n",
    "- si está entre valor2 y valor3 (ambos inclusive) indica 'normal',\n",
    "- si es mayor que valor3 y menor o igual que valor4 es 'hiperkalemia moderada'\n",
    "- y valores mayores que valor4 sería 'hiperkalemia severa'.\n",
    "Ejemplo de una lista con elementos [valor1, valor2, valor3, valor4] para un adulto de mediana edad:\n",
    "[2.0, 3.5, 5.2, 7.0]\n",
    "Diseña una función nivelKsang(dK, lst) en que, dado un diccionario dK que tiene como clave el\n",
    "nombre de un paciente y como valor su nivel de [K+] en sangre, y una lista lst con 4 valores de\n",
    "clasificación, como los descritos, devuelva un diccionario que tenga como claves los nombres de los\n",
    "pacientes y como valores su clasificación, de acuerdo a los niveles de [K+] en sangre.\n",
    "\n",
    "```python\n",
    "def nivelKsang(dK, lst):\n",
    "    \"\"\"\n",
    "    Parameters\n",
    "    ----------\n",
    "    dK: tipo diccionario\n",
    "    Clave: nombre de persona; valor: concentración de potasio en sangre\n",
    "    ([K+]) en unidades de mmol/L\n",
    "    lst: tipo lista\n",
    "    Contiene 4 elementos con los valores de [K+] que se usan de límite en\n",
    "    la clasificación de los niveles de potasio en sangre\n",
    "    Returns\n",
    "    -------\n",
    "    un diccionario donde las claves son nombres de pacientes (strings)\n",
    "    y los valores son la clasificación de acuerdo a la [K+] que tengan\n",
    "\n",
    "    Ejemplo:\n",
    "    >>> dK1 = {'Luis': 2.2, 'Carlos': 7.0, 'Laia': 4.0, 'Mikel': 5.5, \\\n",
    "    'Jordi': 5.2, 'Anna': 3.6, 'Joe': 7.2}\n",
    "    >>> ls1 = [2.0, 3.5, 5.2, 7.0]\n",
    "    >>> dic = nivelKsang(dK1, ls1)\n",
    "    >>> dic == {'Luis': 'hipokalemia leve', \\\n",
    "    'Carlos': 'hiperkalemia moderada', 'Laia': 'normal', \\\n",
    "    'Mikel': 'hiperkalemia moderada', 'Jordi': 'normal', \\\n",
    "    'Anna': 'normal', 'Joe': 'hiperkalemia severa'}\n",
    "    True\n",
    "    \"\"\""
   ]
  },
  {
   "cell_type": "code",
   "execution_count": 11,
   "metadata": {},
   "outputs": [],
   "source": [
    "def nivelKsang(dK, lst):\n",
    "    \"\"\"\n",
    "    Assigns a classification to each patient based on their blood potassium levels.\n",
    "\n",
    "    Parameters:\n",
    "        dK (dict): Dictionary where keys are patient names and values are blood potassium levels in mmol/L.\n",
    "        lst (list): List containing 4 values used as thresholds for classifying potassium levels.\n",
    "\n",
    "    Returns:\n",
    "        dict: A dictionary where keys are patient names (strings) and values are their classification\n",
    "        according to their blood potassium levels.\n",
    "    \"\"\"\n",
    "    result = {}\n",
    "    for name, k_level in dK.items():\n",
    "        if k_level < lst[0]:\n",
    "            result[name] = 'hipokalemia crítica'\n",
    "        elif lst[0] <= k_level < lst[1]:\n",
    "            result[name] = 'hipokalemia leve'\n",
    "        elif lst[1] <= k_level <= lst[2]:\n",
    "            result[name] = 'normal'\n",
    "        elif lst[2] < k_level <= lst[3]:\n",
    "            result[name] = 'hiperkalemia moderada'\n",
    "        else:\n",
    "            result[name] = 'hiperkalemia severa'\n",
    "    return result"
   ]
  },
  {
   "cell_type": "markdown",
   "metadata": {},
   "source": [
    "Pruebas Ejercicio 5"
   ]
  },
  {
   "cell_type": "code",
   "execution_count": 12,
   "metadata": {},
   "outputs": [
    {
     "name": "stdout",
     "output_type": "stream",
     "text": [
      "Resultado de test:  {'Luis': 'hipokalemia leve', 'Carlos': 'hiperkalemia moderada', 'Laia': 'normal', 'Mikel': 'hiperkalemia moderada', 'Jordi': 'normal', 'Anna': 'normal', 'Joe': 'hiperkalemia severa'}\n"
     ]
    }
   ],
   "source": [
    "dK1 = {'Luis': 2.2, 'Carlos': 7.0, 'Laia': 4.0, 'Mikel': 5.5, 'Jordi': 5.2, 'Anna': 3.6, 'Joe': 7.2}\n",
    "ls1 = [2.0, 3.5, 5.2, 7.0]\n",
    "print('Resultado de test: ', nivelKsang(dK1, ls1))"
   ]
  },
  {
   "cell_type": "markdown",
   "metadata": {},
   "source": [
    "Hemos comprobado los resultados esperados."
   ]
  },
  {
   "cell_type": "markdown",
   "metadata": {},
   "source": [
    "## DataFrames"
   ]
  },
  {
   "cell_type": "markdown",
   "metadata": {},
   "source": [
    "## 6.  Temperatura ciudades en DataFrame.\n",
    "A partir de lst_ciudad de las temperaturas de las\n",
    "ciudades de los primeros 4 meses del año del ejercicio 2:\n",
    "a) Diseña un código para crear un objeto DataFrame que contenga en sus columnas: 'Ciudad',\n",
    "'Enero', 'Febrero', 'Marzo', 'Abril' y los datos sean los valores de las listas de ciudades de\n",
    "lst_ciudad. Agregar como nombre del DataFrame: 'Temperatura ciudades'. El DataFrame\n",
    "será como:\n",
    "| Ciudad  | Enero | Febrero | Marzo | Abril |\n",
    "|---------|-------|---------|-------|-------|\n",
    "| Londres | 3.4   | 6.3     | 10.5  | 6.8   |\n",
    "| Oslo    | -3.8  | -5.0    | 5.1   | 4.2   |\n",
    "| Berlin  | 7.5   | 4.1     | 12.3  | 13.0  |\n",
    "| Málaga  | 14.7  | 12.3    | 19.5  | 18.4  |\n",
    "\n",
    "b) Escribe un código para agregar la temperatura mínima, máxima, media y desviación\n",
    "estándar de los 4 primeros meses del año al DataFrame anterior. Resultado de la forma:\n",
    "| Ciudad  | Enero | Febrero | Marzo | Abril | Min  | Max  | Media | StdDev   |\n",
    "|---------|-------|---------|-------|-------|------|------|-------|----------|\n",
    "| Londres | 3.4   | 6.3     | 10.5  | 6.8   | 3.4  | 10.5 | 6.750 | 2.914904 |\n",
    "| Oslo    | -3.8  | -5.0    | 5.1   | 4.2   | -5.0 | 5.1  | 0.125 | 5.260783 |\n",
    "| Berlin  | 7.5   | 4.1     | 12.3  | 13.0  | 4.1  | 13.0 | 9.225 | 4.201091 |\n",
    "| Málaga  | 14.7  | 12.3    | 19.5  | 18.4  | 12.3 | 19.5 | 16.225| 3.326034 |\n"
   ]
  },
  {
   "cell_type": "code",
   "execution_count": 13,
   "metadata": {},
   "outputs": [
    {
     "name": "stdout",
     "output_type": "stream",
     "text": [
      "DataFrame 'Temperatura ciudades':\n",
      "         Enero  Febrero  Marzo  Abril\n",
      "Londres    3.4      6.3   10.5    6.8\n",
      "Oslo      -3.8     -5.0    5.1    4.2\n",
      "Berlin     7.5      4.1   12.3   13.0\n",
      "Málaga    14.7     12.3   19.5   18.4\n",
      "\n",
      "DataFrame con temperaturas y estadísticas:\n",
      "         Enero  Febrero  Marzo  Abril   Min   Max      Media    StdDev\n",
      "Londres    3.4      6.3   10.5    6.8   3.4  10.5   6.816667  2.908274\n",
      "Oslo      -3.8     -5.0    5.1    4.2  -5.0   5.1   0.100000  4.726521\n",
      "Berlin     7.5      4.1   12.3   13.0   4.1  13.0   9.000000  3.940389\n",
      "Málaga    14.7     12.3   19.5   18.4  12.3  19.5  16.116667  3.142407\n"
     ]
    }
   ],
   "source": [
    "import pandas as pd\n",
    "\n",
    "# Datos de las ciudades\n",
    "lst_ciudad = [['Londres', 3.4, 6.3, 10.5, 6.8],\n",
    "              ['Oslo', -3.8, -5.0, 5.1, 4.2],\n",
    "              ['Berlin', 7.5, 4.1, 12.3, 13.0],\n",
    "              ['Málaga', 14.7, 12.3, 19.5, 18.4]]\n",
    "\n",
    "# a) Crear DataFrame con las temperaturas de las ciudades\n",
    "df_temperaturas = pd.DataFrame(lst_ciudad, columns=['Ciudad', 'Enero', 'Febrero', 'Marzo', 'Abril'])\n",
    "df_temperaturas.set_index('Ciudad', inplace=True)\n",
    "df_temperaturas.index.name = None\n",
    "print(\"DataFrame 'Temperatura ciudades':\")\n",
    "print(df_temperaturas)\n",
    "print()\n",
    "\n",
    "# b) Agregar temperatura mínima, máxima, media y desviación estándar\n",
    "df_temperaturas['Min'] = df_temperaturas.min(axis=1)\n",
    "df_temperaturas['Max'] = df_temperaturas.max(axis=1)\n",
    "df_temperaturas['Media'] = df_temperaturas.mean(axis=1)\n",
    "df_temperaturas['StdDev'] = df_temperaturas.std(axis=1)\n",
    "\n",
    "print(\"DataFrame con temperaturas y estadísticas:\")\n",
    "print(df_temperaturas)\n"
   ]
  },
  {
   "cell_type": "markdown",
   "metadata": {},
   "source": [
    "Hemos comprobado los resultados esperados."
   ]
  },
  {
   "cell_type": "markdown",
   "metadata": {},
   "source": [
    "## 7.  Base de datos cardiaca.\n",
    "La base de datos de enfermedades cardiacas UCI heart.csv, que se\n",
    "encuentra disponible en el aula y en el enlace https://www.kaggle.com/ronitf/heart-disease-uci ,\n",
    "contiene 14 atributos (columnas):\n",
    "1. age: edad\n",
    "2. sex: sexo (1: hombre, 0: mujer)\n",
    "3. cp: tipo de dolor en el pecho (4 valores)\n",
    "4. trestbps: presión arterial sistólica en reposo\n",
    "5. chol: colesterol sérico en mg/dl\n",
    "6. fbs: azúcar en sangre (en ayunas) > 120 mg/dl\n",
    "7. restecg: Resultados electrocardiográficos en reposo (valores 0,1,2)\n",
    "8. thalach: frecuencia cardíaca máxima alcanzada\n",
    "9. exang: angina inducida por ejercicio (1: sí, 0: no)\n",
    "10. oldpeak: depresión del segmento ST inducida por el ejercicio relativo al descanso\n",
    "11. slope: pendiente del segmento ST de ejercicio máximo\n",
    "12. ca: número de vasos principales (0-3) coloreados por flourosopía\n",
    "13. thal: 3 = normal; 6 = defecto fijo; 7 = defecto reversible\n",
    "Y el atributo 14, target se refiere a la presencia (1) o no (0) de enfermedad cardiaca.\n",
    "En este ejercicio se pide que se lea o cargue la base de datos desde heart.csv a un objeto DataFrame\n",
    "(por ejemplo, dfCardio) y se presenten los siguientes resultados:\n",
    "a) Mostrar las primeras 10 instancias (filas) del DataFrame.\n",
    "b) Calcular el número (conteo) de hombres y mujeres.\n",
    "c) Calcular el número (conteo) de casos de angina de pecho inducida (atributo: exang)\n",
    "d) Hallar el DataFrame con la estadística descriptiva de la frecuencia cardiaca (thalach)\n",
    "e) Hallar un DataFrame que incluya la estadística descriptiva de la presión arterial sistólica en\n",
    "reposo (trestbps) y el colesterol (chol). (ambos en el mismo DataFrame)"
   ]
  },
  {
   "cell_type": "code",
   "execution_count": 14,
   "metadata": {},
   "outputs": [
    {
     "name": "stdout",
     "output_type": "stream",
     "text": [
      "a) Primeras 10 instancias del DataFrame:\n",
      "   age  sex  cp  trestbps  chol  fbs  restecg  thalach  exang  oldpeak  slope  \\\n",
      "0   63    1   3       145   233    1        0      150      0      2.3      0   \n",
      "1   37    1   2       130   250    0        1      187      0      3.5      0   \n",
      "2   41    0   1       130   204    0        0      172      0      1.4      2   \n",
      "3   56    1   1       120   236    0        1      178      0      0.8      2   \n",
      "4   57    0   0       120   354    0        1      163      1      0.6      2   \n",
      "5   57    1   0       140   192    0        1      148      0      0.4      1   \n",
      "6   56    0   1       140   294    0        0      153      0      1.3      1   \n",
      "7   44    1   1       120   263    0        1      173      0      0.0      2   \n",
      "8   52    1   2       172   199    1        1      162      0      0.5      2   \n",
      "9   57    1   2       150   168    0        1      174      0      1.6      2   \n",
      "\n",
      "   ca  thal  target  \n",
      "0   0     1       1  \n",
      "1   0     2       1  \n",
      "2   0     2       1  \n",
      "3   0     2       1  \n",
      "4   0     2       1  \n",
      "5   0     1       1  \n",
      "6   0     2       1  \n",
      "7   0     3       1  \n",
      "8   0     3       1  \n",
      "9   0     2       1  \n",
      "\n",
      "b) Número de hombres y mujeres:\n",
      "Hombres: 207\n",
      "Mujeres: 96\n",
      "\n",
      "c) Número de casos de angina de pecho inducida:\n",
      "Sí: 99\n",
      "No: 204\n",
      "\n",
      "d) Estadística descriptiva de la frecuencia cardíaca (thalach):\n",
      "count    303.000000\n",
      "mean     149.646865\n",
      "std       22.905161\n",
      "min       71.000000\n",
      "25%      133.500000\n",
      "50%      153.000000\n",
      "75%      166.000000\n",
      "max      202.000000\n",
      "Name: thalach, dtype: float64\n",
      "\n",
      "e) Estadística descriptiva de la presión arterial sistólica en reposo (trestbps) y el colesterol (chol):\n",
      "         trestbps        chol\n",
      "count  303.000000  303.000000\n",
      "mean   131.623762  246.264026\n",
      "std     17.538143   51.830751\n",
      "min     94.000000  126.000000\n",
      "25%    120.000000  211.000000\n",
      "50%    130.000000  240.000000\n",
      "75%    140.000000  274.500000\n",
      "max    200.000000  564.000000\n"
     ]
    }
   ],
   "source": [
    "import pandas as pd\n",
    "\n",
    "# Cargamos archivo CSV en un DataFrame\n",
    "dfCardio = pd.read_csv('heart.csv')\n",
    "\n",
    "# a) Mostrar las primeras 10 instancias del DataFrame (head)\n",
    "print(\"a) Primeras 10 instancias del DataFrame:\")\n",
    "print(dfCardio.head(10))\n",
    "print()\n",
    "\n",
    "# b) Contar el número de hombres y mujeres\n",
    "conteo_sexo = dfCardio['sex'].value_counts()\n",
    "print(\"b) Número de hombres y mujeres:\")\n",
    "print(\"Hombres:\", conteo_sexo[1])\n",
    "print(\"Mujeres:\", conteo_sexo[0])\n",
    "print()\n",
    "\n",
    "# c) Contar el número de casos de angina de pecho inducida (exang)\n",
    "conteo_angina = dfCardio['exang'].value_counts()\n",
    "print(\"c) Número de casos de angina de pecho inducida:\")\n",
    "print(\"Sí:\", conteo_angina[1])\n",
    "print(\"No:\", conteo_angina[0])\n",
    "print()\n",
    "\n",
    "# d) Estadística descriptiva de la frecuencia cardíaca (thalach)\n",
    "print(\"d) Estadística descriptiva de la frecuencia cardíaca (thalach):\")\n",
    "print(dfCardio['thalach'].describe())\n",
    "print()\n",
    "\n",
    "# e) Estadística descriptiva de la presión arterial sistólica en reposo (trestbps) y el colesterol (chol)\n",
    "print(\"e) Estadística descriptiva de la presión arterial sistólica en reposo (trestbps) y el colesterol (chol):\")\n",
    "print(dfCardio[['trestbps', 'chol']].describe())"
   ]
  },
  {
   "cell_type": "markdown",
   "metadata": {},
   "source": [
    "Hemos comprobado los resultados esperados."
   ]
  },
  {
   "cell_type": "markdown",
   "metadata": {},
   "source": [
    "## 8.   Base de datos presión arterial en DataFame.\n",
    "Dado un diccionario sobre hipertensión como el del\n",
    "ejemplo en el docstring del ejercicio 4, diseña una función que entre un diccionario donde la clave es\n",
    "el nombre de la persona y el valor es una lista con la edad y las presiones sistólica y diastólica (en\n",
    "unidades: mmHg), devuelva un dataFrame que incluya como columnas: 'Nombre', 'Edad', 'Sistólica',\n",
    "'Diastólica' y una última columna calculada, etiquetada 'Diagnóstico', con datos categóricos con\n",
    "valores 'baja', 'normal', 'alta'. La presión arterial 'baja' la definimos así: si la presión sistólica es menor\n",
    "que 90 mmHg o la diastólica menor que 60 mmg. La presión 'alta' sería si la sistólica es mayor o igual\n",
    "a 140 mmHg o la diastólica es mayor o igual a 90 mmHg. En otras condiciones sería 'normal'. Ejemplo\n",
    "de diccionario de entrada y resultado.\n",
    "Nota. Se considerará que no habrá casos donde la diferencia entre la presión sistólica y diastólica (presión de\n",
    "pulso) supere los 60 mmHg, es decir, no habrá casos donde simultáneamente se encuentre un paciente con la\n",
    "tensión diastólica menor que la 'baja' y la sistólica mayor que la 'alta'\n",
    "\n",
    "```python\n",
    "dhiper = {'Maria': [40, 135, 90],'Nuria': [63, 141, 92], \\\n",
    "    'Jose': [47, 110, 59], 'Luis': [49, 146, 94], \\\n",
    "    'Oriol': [52, 130, 89], 'Carlos': [65, 125, 89], \\\n",
    "    'Pepe': [70, 130, 92]}\n",
    "\n",
    "Resultado de la forma:\n",
    "\n",
    "| Nombre | Edad | Sistólica | Diastólica | Diagnóstico |\n",
    "|--------|------|-----------|------------|-------------|\n",
    "| Maria  | 40   | 135       | 90         | alta        |\n",
    "| Nuria  | 63   | 141       | 92         | alta        |\n",
    "| Jose   | 47   | 110       | 59         | baja        |\n",
    "| Luis   | 49   | 146       | 94         | alta        |\n",
    "| Oriol  | 52   | 130       | 89         | normal      |\n",
    "| Carlos | 65   | 125       | 89         | normal      |\n",
    "| Pepe   | 70   | 130       | 92         | alta        |\n"
   ]
  },
  {
   "cell_type": "code",
   "execution_count": 16,
   "metadata": {},
   "outputs": [],
   "source": [
    "import pandas as pd\n",
    "\n",
    "def crear_dataframe_presion_arterial(dicc_presion):\n",
    "    \"\"\"\n",
    "    Creamos un DataFrame a partir de un diccionario de presión arterial.\n",
    "\n",
    "    Parameters:\n",
    "        dicc_presion (dict): Un diccionario donde las claves son los nombres de las personas y los valores son listas con la edad, la presión sistólica y la presión diastólica.\n",
    "\n",
    "    Returns:\n",
    "        pandas.DataFrame: Un DataFrame con las columnas 'Nombre', 'Edad', 'Sistólica', 'Diastólica' y 'Diagnóstico'.\n",
    "    \"\"\"\n",
    "    nombres = []\n",
    "    edades = []\n",
    "    sistolicas = []\n",
    "    diastolicas = []\n",
    "    diagnosticos = []\n",
    "\n",
    "    for nombre, valores in dicc_presion.items():\n",
    "        nombres.append(nombre)\n",
    "        edades.append(valores[0])\n",
    "        sistolica = valores[1]\n",
    "        diastolica = valores[2]\n",
    "        sistolicas.append(sistolica)\n",
    "        diastolicas.append(diastolica)\n",
    "        if sistolica < 90 or diastolica < 60:\n",
    "            diagnosticos.append('baja')\n",
    "        elif sistolica >= 140 or diastolica >= 90:\n",
    "            diagnosticos.append('alta')\n",
    "        else:\n",
    "            diagnosticos.append('normal')\n",
    "\n",
    "    df = pd.DataFrame({\n",
    "        'Nombre': nombres,\n",
    "        'Edad': edades,\n",
    "        'Sistólica': sistolicas,\n",
    "        'Diastólica': diastolicas,\n",
    "        'Diagnóstico': diagnosticos\n",
    "    })\n",
    "\n",
    "    return df"
   ]
  },
  {
   "cell_type": "code",
   "execution_count": 17,
   "metadata": {},
   "outputs": [
    {
     "name": "stdout",
     "output_type": "stream",
     "text": [
      "Resultado del test:     Nombre  Edad  Sistólica  Diastólica Diagnóstico\n",
      "0   Maria    40        135          90        alta\n",
      "1   Nuria    63        141          92        alta\n",
      "2    Jose    47        110          59        baja\n",
      "3    Luis    49        146          94        alta\n",
      "4   Oriol    52        130          89      normal\n",
      "5  Carlos    65        125          89      normal\n",
      "6    Pepe    70        130          92        alta\n"
     ]
    }
   ],
   "source": [
    "dhiper = {'Maria': [40, 135, 90],'Nuria': [63, 141, 92], \\\n",
    "    'Jose': [47, 110, 59], 'Luis': [49, 146, 94], \\\n",
    "    'Oriol': [52, 130, 89], 'Carlos': [65, 125, 89], \\\n",
    "    'Pepe': [70, 130, 92]}\n",
    "\n",
    "df_presion_arterial = crear_dataframe_presion_arterial(dhiper)\n",
    "print(\"Resultado del test: \", df_presion_arterial)"
   ]
  },
  {
   "cell_type": "markdown",
   "metadata": {},
   "source": [
    "Hemos comprobado los resultados esperados."
   ]
  }
 ],
 "metadata": {
  "kernelspec": {
   "display_name": "api",
   "language": "python",
   "name": "python3"
  },
  "language_info": {
   "codemirror_mode": {
    "name": "ipython",
    "version": 3
   },
   "file_extension": ".py",
   "mimetype": "text/x-python",
   "name": "python",
   "nbconvert_exporter": "python",
   "pygments_lexer": "ipython3",
   "version": "3.8.10"
  }
 },
 "nbformat": 4,
 "nbformat_minor": 2
}
