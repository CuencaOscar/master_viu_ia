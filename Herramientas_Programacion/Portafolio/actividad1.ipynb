{
 "cells": [
  {
   "cell_type": "markdown",
   "metadata": {},
   "source": [
    "# Actividad 1\n",
    "\n",
    "## Objetivo:\n",
    "\n",
    "Utilizar programación modular, diseñando y usando funciones en programas con Python que contengan datos estructurados inmutables – strings y mutables – listas, incluyendo listas de listas."
   ]
  },
  {
   "cell_type": "markdown",
   "metadata": {},
   "source": [
    "## Ejercicios con strings (cadenas de caracteres)"
   ]
  },
  {
   "cell_type": "markdown",
   "metadata": {},
   "source": [
    "## 1. Identificador válido. \n",
    "Para que los identificadores o nombres de las variables o funciones sean\n",
    "válidos deben comenzar e incluir letras a..z. (minúscula o mayúscula) o el guión bajo (_).\n",
    "Pueden incluir también números (0..9) pero que no sean el primer carácter del identificador.\n",
    "Diseña una función FirstChar(s) que, dado un string s (no vacío), nos devuelva True o False\n",
    "si el string es válido o no para identificar o dar nombre a una variable o función\n",
    "\n",
    "```python\n",
    ">>> FirstChar('paciente001')\n",
    "True\n",
    ">>> FirstChar('P001')\n",
    "True\n",
    ">>> FirstChar('1Pac')\n",
    "False\n",
    ">>> FirstChar('_001')\n",
    "True\n",
    ">>> FirstChar(':p001')\n",
    "False"
   ]
  },
  {
   "cell_type": "code",
   "execution_count": 82,
   "metadata": {},
   "outputs": [],
   "source": [
    "def FirstChar(s: str) -> bool:\n",
    "    \"\"\"\n",
    "    Comprueba si la cadena dada es un identificador válido para variables o funciones.\n",
    "    Un identificador válido debe comenzar con una letra (a-z, A-Z) o un guión bajo (_),\n",
    "    y puede incluir números (0-9), pero no como primer carácter.\n",
    "    \n",
    "    Parameters:\n",
    "    - s (str): La cadena a comprobar.\n",
    "    \n",
    "    Returns:\n",
    "    - bool: Verdadero si 's' es un identificador válido; Falso en caso contrario.\n",
    "    \"\"\"\n",
    "    if not s or (not s[0].isalpha() and s[0] != '_'):\n",
    "        return False  # La cadena está vacía o no comienza con una letra/guión bajo\n",
    "    for char in s[1:]:\n",
    "        if not (char.isalnum() or char == '_'):\n",
    "            return False  # Carácter no válido encontrado\n",
    "    return True"
   ]
  },
  {
   "cell_type": "markdown",
   "metadata": {},
   "source": [
    "Para realizar las pruebas, procedemos a almacenar dichas respuestas y llamamos la funcion."
   ]
  },
  {
   "cell_type": "code",
   "execution_count": 83,
   "metadata": {},
   "outputs": [
    {
     "name": "stdout",
     "output_type": "stream",
     "text": [
      "paciente001: True (Respuesta esperada: True)\n",
      "P001: True (Respuesta esperada: True)\n",
      "1Pac: False (Respuesta esperada: False)\n",
      "_001: True (Respuesta esperada: True)\n",
      ":p001: False (Respuesta esperada: False)\n"
     ]
    }
   ],
   "source": [
    "test_cases = {\n",
    "    'paciente001': True,\n",
    "    'P001': True,\n",
    "    '1Pac': False,\n",
    "    '_001': True,\n",
    "    ':p001': False\n",
    "}\n",
    "\n",
    "for test_case, expected in test_cases.items():\n",
    "    result = FirstChar(test_case)\n",
    "    print(f\"{test_case}: {result} (Respuesta esperada: {expected})\")"
   ]
  },
  {
   "cell_type": "markdown",
   "metadata": {},
   "source": [
    "Hemos comprobado los resultados esperados."
   ]
  },
  {
   "cell_type": "markdown",
   "metadata": {},
   "source": [
    "## 2. Porcentaje de vocales. \n",
    "Escribe una función porcentVocal(s) en que dado un string s, la\n",
    "función devuelva el porcentaje de vocales que contiene el string. Deben considerarse vocales\n",
    "minúsculas y mayúsculas. Devolver el resultado con un decimal de precisión.\n",
    "Consideraremos que las vocales están sin tilde o acento gráfico. Se valorará prever el caso que\n",
    "se envíe como argumento un string vacío.\n",
    "\n",
    "```python\n",
    ">>> porcentVocal('Hola')\n",
    "50.0\n",
    ">>> porcentVocal('Acacia')\n",
    "66.7\n",
    ">>> porcentVocal('Brrrrrrr')\n",
    "0.0\n",
    ">>> porcentVocal('aAe')\n",
    "100.0\n"
   ]
  },
  {
   "cell_type": "code",
   "execution_count": 84,
   "metadata": {},
   "outputs": [],
   "source": [
    "def porcent_vowels(s: str) -> float:\n",
    "    \"\"\"\n",
    "    Calcula el porcentaje de vocales en la cadena dada, considerando tanto las vocales minúsculas como las mayúsculas.\n",
    "    El resultado se devuelve con un decimal de precisión. No se consideran las vocales acentuadas.\n",
    "    En caso de una cadena vacía, la función devuelve 0,0.\n",
    "    \n",
    "    Parameters:\n",
    "    - s (str): La cadena a analizar.\n",
    "    \n",
    "    Returns:\n",
    "    - float: El porcentaje de vocales en la cadena, redondeado a un decimal.\n",
    "    \"\"\"\n",
    "    if not s:  # Compruebe si hay una cadena vacía\n",
    "        return 0.0\n",
    "    vowels = \"aeiouAEIOU\"\n",
    "    count_vowels = sum(1 for char in s if char in vowels)\n",
    "    total_chars = len(s)\n",
    "    percentage = (count_vowels / total_chars) * 100\n",
    "    return round(percentage, 1)"
   ]
  },
  {
   "cell_type": "markdown",
   "metadata": {},
   "source": [
    "Pruebas Ejercicio 2"
   ]
  },
  {
   "cell_type": "code",
   "execution_count": 85,
   "metadata": {},
   "outputs": [
    {
     "name": "stdout",
     "output_type": "stream",
     "text": [
      "Hola: 50.0 (Respuesta esperada: 50.0)\n",
      "Acacia: 66.7 (Respuesta esperada: 66.7)\n",
      "Brrrrrrr: 0.0 (Respuesta esperada: 0.0)\n",
      "aAe: 100.0 (Respuesta esperada: 100.0)\n"
     ]
    }
   ],
   "source": [
    "test_cases = {\n",
    "    'Hola': 50.0,\n",
    "    'Acacia': 66.7,\n",
    "    'Brrrrrrr': 0.0,\n",
    "    'aAe': 100.0\n",
    "}\n",
    "\n",
    "for test_case, expected in test_cases.items():\n",
    "    result = porcent_vowels(test_case)\n",
    "    print(f\"{test_case}: {result} (Respuesta esperada: {expected})\")"
   ]
  },
  {
   "cell_type": "markdown",
   "metadata": {},
   "source": [
    "Hemos comprobado los resultados esperados."
   ]
  },
  {
   "cell_type": "markdown",
   "metadata": {},
   "source": [
    "## 3. Nuevo string. \n",
    "Diseña una función nuevo_string (s, n) que, dado un string s y un entero\n",
    "n ≥ 0, devuelva el string resultante de repetir cada vocal de s exactamente n veces en el lugar\n",
    "donde se encuentra situada en s.\n",
    "\n",
    "```python\n",
    ">>> nuevo_string('Charleston', 2)\n",
    "'Chaarleestoon'\n",
    ">>> nuevo_string('RDT11', 1)\n",
    "'RDT11'\n",
    ">>> nuevo_string('H2O', 3)\n",
    "'H2OOO'\n"
   ]
  },
  {
   "cell_type": "code",
   "execution_count": 86,
   "metadata": {},
   "outputs": [],
   "source": [
    "def nuevo_string(s: str, n: int) -> str:\n",
    "    \"\"\"\n",
    "    Crea una nueva cadena repitiendo cada vocal en la cadena original exactamente 'n' veces.\n",
    "    \n",
    "    Parameters:\n",
    "    - s (str): La cadena original.\n",
    "    - n (int): El número de veces a repetir cada vocal, debe ser mayor o igual a 0.\n",
    "    \n",
    "    Returns:\n",
    "    - str: La cadena resultante tras repetir las vocales.\n",
    "    \"\"\"\n",
    "    if n < 0:\n",
    "        return s  # Devuelve la cadena original si n es negativo\n",
    "    vowels = \"aeiouAEIOU\"\n",
    "    return ''.join(char * n if char in vowels else char for char in s)"
   ]
  },
  {
   "cell_type": "markdown",
   "metadata": {},
   "source": [
    "Pruebas Ejercicio 3"
   ]
  },
  {
   "cell_type": "code",
   "execution_count": 87,
   "metadata": {},
   "outputs": [
    {
     "name": "stdout",
     "output_type": "stream",
     "text": [
      "('Charleston', 2): Chaarleestoon (Respuesta esperada: Chaarleestoon)\n",
      "('RDT11', 1): RDT11 (Respuesta esperada: RDT11)\n",
      "('H2O', 3): H2OOO (Respuesta esperada: H2OOO)\n"
     ]
    }
   ],
   "source": [
    "test_cases = {\n",
    "    ('Charleston',2): 'Chaarleestoon',\n",
    "    ('RDT11',1): 'RDT11',\n",
    "    ('H2O',3): 'H2OOO'\n",
    "}\n",
    "\n",
    "for test_case, expected in test_cases.items():\n",
    "    s, n = test_case\n",
    "    result = nuevo_string(s, n)\n",
    "    print(f\"{test_case}: {result} (Respuesta esperada: {expected})\")"
   ]
  },
  {
   "cell_type": "markdown",
   "metadata": {},
   "source": [
    "Hemos comprobado los resultados esperados."
   ]
  },
  {
   "cell_type": "markdown",
   "metadata": {},
   "source": [
    "## 4. Notas al pie de página. \n",
    "Diseña una función notas_al_pie(s) que, dado un string s formado\n",
    "sólo por letras, signos de puntuación y asteriscos que indican una llamada a una nota al pie\n",
    "de página, devuelva un string donde cada asterisco es sustituido por un número entre\n",
    "paréntesis que indica el número de nota. El primer * se substituye por (1), el segundo por (2),\n",
    "etc. Ejemplos:\n",
    "\n",
    "```python\n",
    ">>> notas_al_pie('Esta es la primera nota*; y esta la segunda*.')\n",
    "'Esta es la primera nota(1); y esta la segunda(2).'\n",
    ">>> notas_al_pie('Esta frase no tiene notas. Esta otra tampoco.')\n",
    "'Esta frase no tiene notas. Esta otra tampoco.'\n",
    ">>> notas_al_pie('*,*. *.')\n",
    "'(1),(2). (3).'\n",
    ">>> notas_al_pie('*')\n",
    "'(1)'\n",
    ">>> notas_al_pie('')\n",
    "''\n"
   ]
  },
  {
   "cell_type": "code",
   "execution_count": 88,
   "metadata": {},
   "outputs": [],
   "source": [
    "def notas_al_pie(s: str) -> str:\n",
    "    \"\"\"\n",
    "    Reemplaza los asteriscos en la cadena dada con números entre paréntesis,\n",
    "    indicando notas a pie de página.\n",
    "    \n",
    "    Parameters:\n",
    "    - s (str): La cadena de entrada que contiene letras, signos de puntuación y asteriscos.\n",
    "    \n",
    "    Returns:\n",
    "    - str: La cadena con asteriscos reemplazada por números de notas al pie.\n",
    "    \"\"\"\n",
    "    footnote_counter = 1\n",
    "    result = \"\"\n",
    "    for char in s:\n",
    "        if char == '*':\n",
    "            result += f\"({footnote_counter})\"\n",
    "            footnote_counter += 1\n",
    "        else:\n",
    "            result += char\n",
    "    \n",
    "    return result"
   ]
  },
  {
   "cell_type": "markdown",
   "metadata": {},
   "source": [
    "Pruebas Ejercicio 4"
   ]
  },
  {
   "cell_type": "code",
   "execution_count": 89,
   "metadata": {},
   "outputs": [
    {
     "name": "stdout",
     "output_type": "stream",
     "text": [
      "Esta es la primera nota*; y esta la segunda*.: Esta es la primera nota(1); y esta la segunda(2). (Respuesta esperada: Esta es la primera nota(1); y esta la segunda(2).)\n",
      "Esta frase no tiene notas. Esta otra tampoco.: Esta frase no tiene notas. Esta otra tampoco. (Respuesta esperada: Esta frase no tiene notas. Esta otra tampoco.)\n",
      "*,*. *.: (1),(2). (3). (Respuesta esperada: (1),(2). (3).)\n",
      "*: (1) (Respuesta esperada: (1))\n",
      ":  (Respuesta esperada: )\n"
     ]
    }
   ],
   "source": [
    "test_cases = {\n",
    "    \"Esta es la primera nota*; y esta la segunda*.\": \"Esta es la primera nota(1); y esta la segunda(2).\",\n",
    "    \"Esta frase no tiene notas. Esta otra tampoco.\": \"Esta frase no tiene notas. Esta otra tampoco.\",\n",
    "    \"*,*. *.\": \"(1),(2). (3).\",\n",
    "    \"*\": \"(1)\",\n",
    "    \"\": \"\"\n",
    "}\n",
    "\n",
    "for test_case, expected in test_cases.items():\n",
    "    result = notas_al_pie(test_case)\n",
    "    print(f\"{test_case}: {result} (Respuesta esperada: {expected})\")"
   ]
  },
  {
   "cell_type": "markdown",
   "metadata": {},
   "source": [
    "Hemos comprobado los resultados esperados."
   ]
  },
  {
   "cell_type": "markdown",
   "metadata": {},
   "source": [
    "## 5. Calcula código. \n",
    "Dado un string s que contiene los nombres y apellidos de una persona, diseña\n",
    "la función codigo(s) que devuelva el string ini + str(count), donde ini contiene las iniciales\n",
    "de la persona (las letras mayúsculas de s) y count es el número total de letras de sus nombres\n",
    "y apellidos (es decir, las letras de s sin contar caracteres blancos o espacios). Ejemplo:\n",
    "\n",
    "```python\n",
    ">>> codigo('Mireia Belmonte García')\n",
    "'MBG20'\n",
    ">>> codigo('Bruce Frederick Joseph Springsteen')\n",
    "'BFJS31'\n",
    ">>> codigo('')\n",
    "''\n",
    ">>> codigo('Gerard Piqué Bernabéu')\n",
    "'GPB19'\n",
    ">>> codigo('Sergio Ramos García')\n",
    "'SRG17'\n"
   ]
  },
  {
   "cell_type": "code",
   "execution_count": 90,
   "metadata": {},
   "outputs": [],
   "source": [
    "def codigo(s: str) -> str:\n",
    "    \"\"\"\n",
    "    Devuelve una cadena que concatena las iniciales de la persona y el recuento total de letras.\n",
    "    en sus nombres y apellidos (excluyendo espacios en blanco).\n",
    "    \n",
    "    Parameters:\n",
    "    - s (str): La cadena de entrada que contiene los nombres y apellidos de la persona.\n",
    "    \n",
    "    Returns:\n",
    "    - str: Una cadena que concatena las iniciales y el recuento total de letras.\n",
    "    \"\"\"\n",
    "    initials = ''.join(word[0].upper() for word in s.split())\n",
    "    \n",
    "    count = sum(1 for char in s if char.isalpha())\n",
    "    \n",
    "    result = initials + str(count)\n",
    "    \n",
    "    return result"
   ]
  },
  {
   "cell_type": "markdown",
   "metadata": {},
   "source": [
    "Pruebas Ejercicio 5"
   ]
  },
  {
   "cell_type": "code",
   "execution_count": 91,
   "metadata": {},
   "outputs": [
    {
     "name": "stdout",
     "output_type": "stream",
     "text": [
      "Mireia Belmonte García: MBG20 (Respuesta esperada: MBG20)\n",
      "Bruce Frederick Joseph Springsteen: BFJS31 (Respuesta esperada: BFJS31)\n",
      ": 0 (Respuesta esperada: )\n",
      "Gerard Piqué Bernabéu: GPB19 (Respuesta esperada: GPB19)\n",
      "Sergio Ramos García: SRG17 (Respuesta esperada: SRG17)\n"
     ]
    }
   ],
   "source": [
    "test_cases = {\n",
    "    \"Mireia Belmonte García\": \"MBG20\",\n",
    "    \"Bruce Frederick Joseph Springsteen\": \"BFJS31\",\n",
    "    \"\": \"\",\n",
    "    \"Gerard Piqué Bernabéu\": \"GPB19\",\n",
    "    \"Sergio Ramos García\": \"SRG17\"\n",
    "}\n",
    "\n",
    "for test_case, expected in test_cases.items():\n",
    "    result = codigo(test_case)\n",
    "    print(f\"{test_case}: {result} (Respuesta esperada: {expected})\")"
   ]
  },
  {
   "cell_type": "markdown",
   "metadata": {},
   "source": [
    "Hemos comprobado los resultados esperados."
   ]
  },
  {
   "cell_type": "markdown",
   "metadata": {},
   "source": [
    "## 6. Contador de hidrógenos. \n",
    "Una fórmula química es una representación convencional de los\n",
    "elementos que forman un compuesto. Por ejemplo, el 1-2-butadiol sería C2H5O, que se\n",
    "representa con el string 'C2H5O'. También pueden aparecer elementos químicos de dos\n",
    "caracteres como el calcio Ca en CaCO3 ( 'CaCO3') o el hierro Fe en Fe3O4 ( 'Fe3O4'). En estos\n",
    "casos el segundo carácter del símbolo siempre es una minúscula. Diseña la función\n",
    "contar_hidrogenos(s) que, dado un string s con un compuesto como los descritos antes,\n",
    "devuelve el número de átomos de hidrógeno que contiene. Para simplificar el problema,\n",
    "limitaremos el número que puede seguir el símbolo de un elemento a un valor entre 2 y 9.\n",
    "\n",
    "```python\n",
    ">>> contar_hidrogenos('HIO')\n",
    "1\n",
    ">>> contar_hidrogenos('H2O')\n",
    "2\n",
    ">>> contar_hidrogenos('C2H5O')\n",
    "5\n",
    ">>> contar_hidrogenos('Fe3O4')\n",
    "0\n",
    ">>> contar_hidrogenos('C2OH')\n",
    "1"
   ]
  },
  {
   "cell_type": "code",
   "execution_count": 92,
   "metadata": {},
   "outputs": [],
   "source": [
    "def contar_hidrogenos(s: str) -> int:\n",
    "    \"\"\"\n",
    "    Devuelve el número de átomos de hidrógeno en el compuesto químico representado por la cadena de entrada 's'.\n",
    "    \n",
    "    Parameters:\n",
    "    - s (str): La cadena de entrada que representa un compuesto químico.\n",
    "    \n",
    "    Returns:\n",
    "    - int: El número de átomos de hidrógeno en el compuesto.\n",
    "    \"\"\"\n",
    "    hydrogen_count = 0\n",
    "    i = 0\n",
    "    while i < len(s):\n",
    "        if s[i] == 'H':\n",
    "            if i + 1 < len(s) and s[i + 1].isdigit():\n",
    "                j = i + 1\n",
    "                while j < len(s) and s[j].isdigit():\n",
    "                    j += 1\n",
    "                hydrogen_count += int(s[i + 1:j])\n",
    "                i = j\n",
    "            else:\n",
    "                hydrogen_count += 1\n",
    "                i += 1\n",
    "        else:\n",
    "            i += 1\n",
    "    return hydrogen_count"
   ]
  },
  {
   "cell_type": "markdown",
   "metadata": {},
   "source": [
    "Pruebas Ejercicio 6"
   ]
  },
  {
   "cell_type": "code",
   "execution_count": 93,
   "metadata": {},
   "outputs": [
    {
     "name": "stdout",
     "output_type": "stream",
     "text": [
      "HIO: 1 (Respuesta esperada: 1)\n",
      "H2O: 2 (Respuesta esperada: 2)\n",
      "C2H5O: 5 (Respuesta esperada: 5)\n",
      "Fe3O4: 0 (Respuesta esperada: 0)\n",
      "C2OH: 1 (Respuesta esperada: 1)\n"
     ]
    }
   ],
   "source": [
    "test_cases = {\n",
    "    \"HIO\": 1,\n",
    "    \"H2O\": 2,\n",
    "    \"C2H5O\": 5,\n",
    "    \"Fe3O4\": 0,\n",
    "    \"C2OH\": 1\n",
    "}\n",
    "\n",
    "for test_case, expected in test_cases.items():\n",
    "    result = contar_hidrogenos(test_case)\n",
    "    print(f\"{test_case}: {result} (Respuesta esperada: {expected})\")"
   ]
  },
  {
   "cell_type": "markdown",
   "metadata": {},
   "source": [
    "Hemos comprobado los resultados esperados."
   ]
  },
  {
   "cell_type": "markdown",
   "metadata": {},
   "source": [
    "## Ejercicios con listas"
   ]
  },
  {
   "cell_type": "markdown",
   "metadata": {},
   "source": [
    "## 7.  \n",
    "Diseña la función mediaTempRang(lst) en que, dada una lista lst de medidas de\n",
    "temperatura en ºC de un experimento, calcule y devuelva el valor medio de aquellas\n",
    "temperaturas de la lista que estén en el rango de 15 a 45 ºC, inclusive [15, 45]. Devolver el\n",
    "resultado redondeado a 2 cifras decimales. También considerar el caso en que ninguna\n",
    "medida de temperatura de la lista esté en el rango dado. En este caso la función devuelve el\n",
    "valor -1.\n",
    "\n",
    "\n",
    "```python\n",
    "def mediaTempRang(lst):\n",
    "    \"\"\"\n",
    "    >>> lst1 = [34.5, 12.9, 15, 43, 51.4, 23.4]\n",
    "    >>> mediaTempRang(lst1)\n",
    "    28.98\n",
    "    >>> mediaTempRang([45.5, 12.9, 15, 32.5, 51.4, 21.2])\n",
    "    22.9\n",
    "    >>> mediaTempRang([14.5, 12.6, 47.8])\n",
    "    -1\n",
    "    >>> mediaTempRang([15, 16, 14, 50, 17])\n",
    "    16.0\n",
    "    \"\"\""
   ]
  },
  {
   "cell_type": "code",
   "execution_count": 94,
   "metadata": {},
   "outputs": [],
   "source": [
    "def mediaTempRang(lst: list) -> float:\n",
    "    \"\"\"\n",
    "    Calcula el valor medio de las medidas de temperatura en ºC dentro del rango [15, 45] en la lista dada.\n",
    "    \n",
    "    Parameters:\n",
    "    - lst (list): Una lista de medidas de temperatura en ºC.\n",
    "    \n",
    "    Returns:\n",
    "    - float: El valor medio de las temperaturas dentro del rango [15, 45], redondeado a 2 cifras decimales.\n",
    "             Si no hay medidas en el rango, devuelve -1.\n",
    "    \"\"\"\n",
    "    filtered_temperatures = [temp for temp in lst if 15 <= temp <= 45]\n",
    "    if not filtered_temperatures:\n",
    "        return -1\n",
    "    mean_temperature = sum(filtered_temperatures) / len(filtered_temperatures)\n",
    "    return round(mean_temperature, 2)"
   ]
  },
  {
   "cell_type": "markdown",
   "metadata": {},
   "source": [
    "Pruebas Ejercicio 7"
   ]
  },
  {
   "cell_type": "code",
   "execution_count": 95,
   "metadata": {},
   "outputs": [
    {
     "name": "stdout",
     "output_type": "stream",
     "text": [
      "(34.5, 12.9, 15, 43, 51.4, 23.4): 28.98 (Respuesta esperada: 28.98)\n",
      "(45.5, 12.9, 15, 32.5, 51.4, 21.2): 22.9 (Respuesta esperada: 22.9)\n",
      "(14.5, 12.6, 47.8): -1 (Respuesta esperada: -1)\n",
      "(15, 16, 14, 50, 17): 16.0 (Respuesta esperada: 16.0)\n"
     ]
    }
   ],
   "source": [
    "test_cases = {\n",
    "    tuple([34.5, 12.9, 15, 43, 51.4, 23.4]): 28.98,\n",
    "    tuple([45.5, 12.9, 15, 32.5, 51.4, 21.2]): 22.9,\n",
    "    tuple([14.5, 12.6, 47.8]): -1,\n",
    "    tuple([15, 16, 14, 50, 17]): 16.0\n",
    "}\n",
    "\n",
    "for test_case, expected in test_cases.items():\n",
    "    result = mediaTempRang(test_case)\n",
    "    print(f\"{test_case}: {result} (Respuesta esperada: {expected})\")"
   ]
  },
  {
   "cell_type": "markdown",
   "metadata": {},
   "source": [
    "Hemos comprobado los resultados esperados."
   ]
  },
  {
   "cell_type": "markdown",
   "metadata": {},
   "source": [
    "## 8.  \n",
    "El umbral de nivel de presión del sonido (sound pressure level, SPL) del oído humano es\n",
    "aproximadamente de 20 P a frecuencias medias de la voz. Este valor se considera el nivel de\n",
    "presión de sonido (SPL) de referencia, 0 dB (20log10(20/20)). La función SPL_dB(P) recibe una\n",
    "presión acústica en P, y devuelve su equivalente en dB.\n",
    "Diseñar la función detect2ndNdB(lst, N), en que dada una lista lst de valores de nivel de\n",
    "presión de sonido (SPL) en P, y un valor N (dB), busque y devuelva el valor de la segunda\n",
    "presión SPL que sea al menos de N dB. Por ejemplo, N = 30 dB es el nivel de un susurro en el\n",
    "oído, N = 50 dB es el nivel de una conversación normal, N = 80 dB es el nivel de ruido en una\n",
    "calle con tráfico. En caso de no encontrar una segunda presión SPL se ha de devolver -1.\n",
    "Notas: (i) Se debe usar la función SPL_dB(P) que convierte en dB la presión de entrada en P.\n",
    "(ii) Se debe buscar la 2ª presión de acuerdo a la ubicación en la lista original del argumento.\n",
    "Por ejemplo, en:\n",
    "\n",
    "\n",
    "```python\n",
    ">>> detect2ndNdB([90, 590, 750, 632, 650, 660, 2000, 789, 545], 30)\n",
    "650\n",
    "\n",
    "Las presiones marcadas en rojo superan los 30 dB, pero la segunda de la lista original, 650, es\n",
    "la que se tiene que devolver. \n",
    "\n",
    "from math import log10\n",
    "def SPL_dB(P):\n",
    "    \"\"\" Calcula Sound Pressure Level en dB: 20log(x/20) x en microPascales\n",
    "    \"\"\"\n",
    "    return 20*log10(P/20)\n",
    "\n",
    " def detect2ndNdB(lst, N):\n",
    "    \"\"\"\n",
    "    >>> detect2ndNdB([90,590,750,632, 650, 900, 2000, 789, 545], 30)\n",
    "    650\n",
    "    >>> detect2ndNdB([90,590,750,632, 650, 900, 2000, 789, 545], 33)\n",
    "    2000\n",
    "    >>> detect2ndNdB([90,590,750,632, 630, 600, 200, 589, 545], 30)\n",
    "    -1\n",
    "    >>> detect2ndNdB([9e3,1e4,1.1e5,2.2e5, 1.3e6, 2.5e6, 3.2e6], 83)\n",
    "    2500000.0\n",
    "    >>> detect2ndNdB([2000, 2450.5, 2500 , 456.7, 1567.8], 42)\n",
    "    -1\n",
    "    \"\"\""
   ]
  },
  {
   "cell_type": "code",
   "execution_count": 96,
   "metadata": {},
   "outputs": [],
   "source": [
    "from math import log10\n",
    "def SPL_dB(P):\n",
    "    return 20*log10(P/20)\n",
    "\n",
    "def detect2ndNdB(lst, N):\n",
    "    \"\"\"\n",
    "    Busca y devuelve el segundo valor en la lista 'lst' que sea al menos igual a 'N' en decibelios.\n",
    "\n",
    "    Parameters:\n",
    "    - lst (list): Lista de valores de nivel de presión de sonido (SPL) en microPascales.\n",
    "    - N (float): Valor en decibelios.\n",
    "\n",
    "    Returns:\n",
    "    - float: El segundo valor en la lista que cumpla con la condición, o -1 si no se encuentra.\n",
    "    \"\"\"\n",
    "    count = 0\n",
    "    for val in lst:\n",
    "        dB = SPL_dB(val)\n",
    "        if dB >= N:\n",
    "            count += 1\n",
    "            if count == 2:\n",
    "                return val\n",
    "    return -1"
   ]
  },
  {
   "cell_type": "markdown",
   "metadata": {},
   "source": [
    "Pruebas Ejercicio 8"
   ]
  },
  {
   "cell_type": "code",
   "execution_count": 97,
   "metadata": {},
   "outputs": [
    {
     "name": "stdout",
     "output_type": "stream",
     "text": [
      "((90, 590, 750, 632, 650, 900, 2000, 789, 545), 30): 650 (Respuesta esperada: 650)\n",
      "((90, 590, 750, 632, 650, 900, 2000, 789, 545), 33): 2000 (Respuesta esperada: 2000)\n",
      "((90, 590, 750, 632, 630, 600, 200, 589, 545), 30): -1 (Respuesta esperada: -1)\n",
      "((9000.0, 10000.0, 110000.0, 220000.0, 1300000.0, 2500000.0, 3200000.0), 83): 2500000.0 (Respuesta esperada: 2500000.0)\n",
      "((2000, 2450.5, 2500, 456.7, 1567.8), 42): -1 (Respuesta esperada: -1)\n"
     ]
    }
   ],
   "source": [
    "test_cases = {\n",
    "    (tuple([90,590,750,632, 650, 900, 2000, 789, 545]),30): 650,\n",
    "    (tuple([90,590,750,632, 650, 900, 2000, 789, 545]),33): 2000,\n",
    "    (tuple([90,590,750,632, 630, 600, 200, 589, 545]),30): -1,\n",
    "    (tuple([9e3,1e4,1.1e5,2.2e5, 1.3e6, 2.5e6, 3.2e6]),83): 2500000.0,\n",
    "    (tuple([2000, 2450.5, 2500 , 456.7, 1567.8]),42): -1\n",
    "}\n",
    "\n",
    "for test_case, expected in test_cases.items():\n",
    "    lst, N = test_case\n",
    "    result = detect2ndNdB(lst, N)\n",
    "    print(f\"{test_case}: {result} (Respuesta esperada: {expected})\")"
   ]
  },
  {
   "cell_type": "markdown",
   "metadata": {},
   "source": [
    "Hemos comprobado los resultados esperados."
   ]
  },
  {
   "cell_type": "markdown",
   "metadata": {},
   "source": [
    "## 9. Primos pitagóricos.  \n",
    "Diseña la función primoPitagoric2(lst) en que, dada una lista de\n",
    "números enteros positivos no repetidos, devuelva una lista con los 2 primeros números\n",
    "primos pitagóricos. Si no hubiera al menos 2 primos pitagóricos la función devuelve -1\n",
    "Un número primo es pitagórico si se puede escribir como la suma de dos cuadrados. Por\n",
    "ejemplo 5 = 22 + 11 o 13 = 22 + 32\n",
    ". Fermat demostró que un primo pitagórico p es igual a 4k +\n",
    "1, para algún valor de k entero positivo. Esta condición se puede expresar como: un número\n",
    "primo p es pitagórico si p modulo 4 es igual a 1, es decir si el residuo de dividir p entre 4 es 1.\n",
    "Se debe usar la función es_primo(n) para evaluar si un número es primo o no.\n",
    "\n",
    "\n",
    "```python\n",
    "def es_primo(n):\n",
    "    if n <= 1: return False\n",
    "    for d in range(2, n//2+1):\n",
    "        if n % d == 0:\n",
    "            return False\n",
    "    return True\n",
    "\n",
    "def primoPitagoric2(lst):\n",
    "    \"\"\"\n",
    "    Ejemplos:\n",
    "    >>> primoPitagoric2([3, 4, 5, 6, 7, 8, 9, 10, 11, 12, 13])\n",
    "    [5, 13]\n",
    "    >>> primoPitagoric2([5, 9, 13, 17, 21, 25, 29, 33, 37, 41])\n",
    "    [5, 13]\n",
    "    >>> primoPitagoric2([41, 45, 49, 53, 57, 61, 65, 69, 73, 77, 81])\n",
    "    [41, 53]\n",
    "    >>> primoPitagoric2([3, 4, 5, 6, 7, 8, 9, 10])\n",
    "    -1\n",
    "    >>> lista = [81, 85, 89, 93, 97, 101, 105, 109, 113, 117, 121]\n",
    "    >>> primoPitagoric2(lista)\n",
    "    [89, "
   ]
  },
  {
   "cell_type": "code",
   "execution_count": 98,
   "metadata": {},
   "outputs": [],
   "source": [
    "def es_primo(n):\n",
    "    if n <= 1: return False\n",
    "    for d in range(2, n//2+1):\n",
    "        if n % d == 0:\n",
    "            return False\n",
    "    return True\n",
    "\n",
    "def primoPitagoric2(lst):\n",
    "    \"\"\"\n",
    "    Devuelve una lista con los 2 primeros números primos pitagóricos en la lista 'lst'.\n",
    "\n",
    "    Parameters:\n",
    "    - lst (list): Lista de números enteros positivos no repetidos.\n",
    "\n",
    "    Returns:\n",
    "    - list or int: Lista con los 2 primeros números primos pitagóricos, o -1 si no se encuentran.\n",
    "    \"\"\"\n",
    "    primos_pitagoricos = []\n",
    "    for num in lst:\n",
    "        if es_primo(num):\n",
    "            if (num - 1) % 4 == 0:\n",
    "                primos_pitagoricos.append(num)\n",
    "                if len(primos_pitagoricos) == 2:\n",
    "                    return primos_pitagoricos\n",
    "    return -1"
   ]
  },
  {
   "cell_type": "markdown",
   "metadata": {},
   "source": [
    "Pruebas Ejercicio 9"
   ]
  },
  {
   "cell_type": "code",
   "execution_count": 99,
   "metadata": {},
   "outputs": [
    {
     "name": "stdout",
     "output_type": "stream",
     "text": [
      "(3, 4, 5, 6, 7, 8, 9, 10, 11, 12, 13): [5, 13] (Respuesta esperada: [5, 13])\n",
      "(5, 9, 13, 17, 21, 25, 29, 33, 37, 41): [5, 13] (Respuesta esperada: [5, 13])\n",
      "(41, 45, 49, 53, 57, 61, 65, 69, 73, 77, 81): [41, 53] (Respuesta esperada: [41, 53])\n",
      "(3, 4, 5, 6, 7, 8, 9, 10): -1 (Respuesta esperada: -1)\n",
      "(81, 85, 89, 93, 97, 101, 105, 109, 113, 117, 121): [89, 97] (Respuesta esperada: [89, 97])\n"
     ]
    }
   ],
   "source": [
    "test_cases = {\n",
    "    tuple([3, 4, 5, 6, 7, 8, 9, 10, 11, 12, 13]): [5, 13],\n",
    "    tuple([5, 9, 13, 17, 21, 25, 29, 33, 37, 41]): [5, 13],\n",
    "    tuple([41, 45, 49, 53, 57, 61, 65, 69, 73, 77, 81]): [41, 53],\n",
    "    tuple([3, 4, 5, 6, 7, 8, 9, 10]): -1,\n",
    "    tuple([81, 85, 89, 93, 97, 101, 105, 109, 113, 117, 121]): [89, 97]\n",
    "}\n",
    "\n",
    "for test_case, expected in test_cases.items():\n",
    "    result = primoPitagoric2(test_case)\n",
    "    print(f\"{test_case}: {result} (Respuesta esperada: {expected})\")"
   ]
  },
  {
   "cell_type": "markdown",
   "metadata": {},
   "source": [
    "Hemos comprobado los resultados esperados."
   ]
  },
  {
   "cell_type": "markdown",
   "metadata": {},
   "source": [
    "## Ejercicios de listas de listas"
   ]
  },
  {
   "cell_type": "markdown",
   "metadata": {},
   "source": [
    "## 10. Contar positivos.  \n",
    "Dada una lista de listas que representa una matriz cuadrada m, diseña una\n",
    "función contar_pos(m), que cuente los números positivos que tiene. Ejemplo:\n",
    "\n",
    "\n",
    "```python\n",
    ">>> contar_pos([[1, -2, 3],[-4,5,6],[7,8,-9]])\n",
    "6"
   ]
  },
  {
   "cell_type": "code",
   "execution_count": 100,
   "metadata": {},
   "outputs": [],
   "source": [
    "def contar_pos(m):\n",
    "    \"\"\"\n",
    "    Cuenta los números positivos en una matriz cuadrada.\n",
    "\n",
    "    Parameters:\n",
    "    - m (list of lists): La matriz cuadrada representada como una lista de listas.\n",
    "\n",
    "    Returns:\n",
    "    - int: El número de números positivos en la matriz.\n",
    "    \"\"\"\n",
    "    count = 0\n",
    "    for fila in m:\n",
    "        for num in fila:\n",
    "            if num > 0:\n",
    "                count += 1\n",
    "    return count"
   ]
  },
  {
   "cell_type": "markdown",
   "metadata": {},
   "source": [
    "Pruebas Ejercicio 10"
   ]
  },
  {
   "cell_type": "code",
   "execution_count": 101,
   "metadata": {},
   "outputs": [
    {
     "name": "stdout",
     "output_type": "stream",
     "text": [
      "((1, -2, 3), (-4, 5, 6), (7, 8, -9)): 6 (Respuesta esperada: 6)\n"
     ]
    }
   ],
   "source": [
    "test_cases = {\n",
    "    tuple([tuple([1, -2, 3]),tuple([-4,5,6]),tuple([7,8,-9])]): 6\n",
    "}\n",
    "\n",
    "for test_case, expected in test_cases.items():\n",
    "    result = contar_pos(test_case)\n",
    "    print(f\"{test_case}: {result} (Respuesta esperada: {expected})\")"
   ]
  },
  {
   "cell_type": "markdown",
   "metadata": {},
   "source": [
    "Hemos comprobado los resultados esperados."
   ]
  },
  {
   "cell_type": "markdown",
   "metadata": {},
   "source": [
    "## 11. Mayor densidad.  \n",
    "Se dispone del nombre, masa y volumen de un planeta almacenado en una\n",
    "lista: [nombre, masa, volumen]. Además, se tiene una lista de planetas como una lista de listas\n",
    "de la forma: [[nombre1, masa1, volumen1], [nombre2, masa2, volumen2], ...].\n",
    "Diseña la función mas_denso(Lst), en que dada una lista de planetas Lst, nos devuelva el\n",
    "nombre del planeta más denso de esa lista. Si hubiera más de uno con la misma densidad, se\n",
    "devuelve el primero que encuentre en la lista original. Ejemplo:\n",
    "\n",
    "\n",
    "```python\n",
    ">>> mas_denso([['Marte', 1, 2], ['Tierra', 2, 3], ['Venus', 1, 3]])\n",
    "'Tierra'"
   ]
  },
  {
   "cell_type": "code",
   "execution_count": 102,
   "metadata": {},
   "outputs": [],
   "source": [
    "def mas_denso(planetas):\n",
    "    \"\"\"\n",
    "    Devuelve el nombre del planeta más denso de una lista de planetas.\n",
    "\n",
    "    Parameters:\n",
    "    - planetas (list of lists): Lista de planetas representada como una lista de listas.\n",
    "\n",
    "    Returns:\n",
    "    - str: El nombre del planeta más denso.\n",
    "    \"\"\"\n",
    "    max_density = 0\n",
    "    densest_planet = None\n",
    "    for planet in planetas:\n",
    "        name, mass, volume = planet\n",
    "        density = mass / volume\n",
    "        if density > max_density:\n",
    "            max_density = density\n",
    "            densest_planet = name\n",
    "    return densest_planet"
   ]
  },
  {
   "cell_type": "markdown",
   "metadata": {},
   "source": [
    "Pruebas Ejercicio 11"
   ]
  },
  {
   "cell_type": "code",
   "execution_count": 103,
   "metadata": {},
   "outputs": [
    {
     "name": "stdout",
     "output_type": "stream",
     "text": [
      "(('Marte', 1, 2), ('Tierra', 2, 3), ('Venus', 1, 3)): Tierra (Respuesta esperada: Tierra)\n"
     ]
    }
   ],
   "source": [
    "test_cases = {\n",
    "    tuple([tuple(['Marte', 1, 2]),tuple(['Tierra', 2, 3]),tuple(['Venus', 1, 3])]): 'Tierra'\n",
    "}\n",
    "\n",
    "for test_case, expected in test_cases.items():\n",
    "    result = mas_denso(test_case)\n",
    "    print(f\"{test_case}: {result} (Respuesta esperada: {expected})\")"
   ]
  },
  {
   "cell_type": "markdown",
   "metadata": {},
   "source": [
    "Hemos comprobado los resultados esperados."
   ]
  },
  {
   "cell_type": "markdown",
   "metadata": {},
   "source": [
    "## 12. Fútbol.  \n",
    "Se dispone en una lista (equipo) de listas (jugadores) con los registros de los\n",
    "jugadores. En cada registro se guarda: su número de dorsal, nombre, si es comunitario o no\n",
    "(booleano, comunitario: True), edad y la distancia recorrida en kilómetros en los partidos\n",
    "jugados en el último mes.\n",
    "No todos los jugadores han jugado todos los partidos del mes, por lo que aparecerá solo la\n",
    "distancia recorrida de los partidos jugados.\n",
    "Diseñar una función jugComKm(equipo, x) en que, dada una lista de un equipo de futbol y\n",
    "un número x de kilómetros recorridos, nos devuelva la lista de nombres de los jugadores\n",
    "comunitarios que han recorrido de media (promedio) más de x km en los partidos jugados.\n",
    "De no encontrarse jugadores con este recorrido, se devolverá la lista vacía.\n",
    "Notas: pudiera haber algún jugador sin partidos jugados y en este caso el promedio lo\n",
    "consideramos 0.\n",
    "Se valorará devolver la lista de nombres ordenada alfabéticamente.\n",
    "\n",
    "\n",
    "```python\n",
    "def jugComKm(lst, x):\n",
    "    \"\"\"\n",
    "    Ejemplo:\n",
    "    >>> lst_equipo = [[3, 'Pique', True, 33, 10.2, 9.0], \\\n",
    "    [4, 'Ramos', True, 34, 11.0, 11.1, 9.8, 8.5], \\\n",
    "    [6, 'Koke', True, 27, 7.5, 9.6, 10.3, 6.5, 5.6], \\\n",
    "    [7, 'Joao', True, 25, 10.5, 8.4, 9.0, 8.6], \\\n",
    "    [8, 'Saul', True, 24, 9.5, 8.9, 10.0, 9.6], \\\n",
    "    [9, 'Suarez', False, 33, 8.6, 7.5], \\\n",
    "    [10, 'Lionel', False, 33, 10.0, 11.1, 9.8, 8.5,10.1], \\\n",
    "    [19, 'Odriozola', True, 25, 9.5], \\\n",
    "    [14, 'Araujo', False, 21, 8.9, 9.5], \\\n",
    "    [15, 'Valverde', False, 22, 9.9, 10.2], \\\n",
    "    [16, 'Pedri', True, 18, 10.5, 11, 9.5, 10.6], \\\n",
    "    [22, 'Hermoso', False, 23, 10, 7.5, 6.6], \\\n",
    "    [23, 'Iago', True, 33, 11.1, 9.0, 9.3, 8.8]]\n",
    "    >>> jugComKm(lst_equipo, 10)\n",
    "    ['Pedri', 'Ramos']\n",
    "    >>> jugComKm(lst_equipo, 10.2)\n",
    "    ['Pedri']\n",
    "    >>> jugComKm(lst_equipo, 10.5)\n",
    "    []\n",
    "    >>> jugComKm(lst_equipo, 9.5)\n",
    "    ['Iago', 'Pedri', 'Pique', 'Ramos']\n",
    "    >>> jugComKm(lst_equipo, 9.4)\n",
    "    ['Iago', 'Odriozola', 'Pedri', 'Pique', 'Ramos', 'Saul']\n",
    "    \"\"\""
   ]
  },
  {
   "cell_type": "code",
   "execution_count": 104,
   "metadata": {},
   "outputs": [],
   "source": [
    "def jugComKm(equipo, x):\n",
    "    \"\"\"\n",
    "    Devuelve la lista de nombres de jugadores de la comunidad que han promediado más de x kilómetros recorridos en partidos jugados.\n",
    "\n",
    "    Parameters:\n",
    "    - equipo (list of lists): Lista de listas que contienen registros de jugadores.\n",
    "    - x (float): El valor umbral del promedio de kilómetros recorridos.\n",
    "\n",
    "    Returns:\n",
    "    - list: La lista de nombres de jugadores comunitarios que han recorrido más de x kilómetros de media.\n",
    "    \"\"\"\n",
    "    above_average_players = []\n",
    "    for player in equipo:\n",
    "        dorsal, name, is_community, age, *distances = player  # Utilizamos *distances para recoger todos los elementos restantes en una lista\n",
    "        if is_community and distances:\n",
    "            average_distance = sum(distances) / len(distances)  # Calculamos el promedio de las distancias\n",
    "            if average_distance > x:\n",
    "                above_average_players.append(name)\n",
    "    return sorted(above_average_players)"
   ]
  },
  {
   "cell_type": "markdown",
   "metadata": {},
   "source": [
    "Pruebas Ejercicio 12"
   ]
  },
  {
   "cell_type": "code",
   "execution_count": 105,
   "metadata": {},
   "outputs": [
    {
     "name": "stdout",
     "output_type": "stream",
     "text": [
      "(((3, 'Pique', True, 33, 10.2, 9.0), (4, 'Ramos', True, 34, 11.0, 11.1, 9.8, 8.5), (6, 'Koke', True, 27, 7.5, 9.6, 10.3, 6.5, 5.6), (7, 'Joao', True, 25, 10.5, 8.4, 9.0, 8.6), (8, 'Saul', True, 24, 9.5, 8.9, 10.0, 9.6), (9, 'Suarez', False, 33, 8.6, 7.5), (10, 'Lionel', False, 33, 10.0, 11.1, 9.8, 8.5, 10.1), (19, 'Odriozola', True, 25, 9.5), (14, 'Araujo', False, 21, 8.9, 9.5), (15, 'Valverde', False, 22, 9.9, 10.2), (16, 'Pedri', True, 18, 10.5, 11, 9.5, 10.6), (22, 'Hermoso', False, 23, 10, 7.5, 6.6), (23, 'Iago', True, 33, 11.1, 9.0, 9.3, 8.8)), 10): ['Pedri', 'Ramos'] (Respuesta esperada: ['Pedri', 'Ramos'])\n",
      "(((3, 'Pique', True, 33, 10.2, 9.0), (4, 'Ramos', True, 34, 11.0, 11.1, 9.8, 8.5), (6, 'Koke', True, 27, 7.5, 9.6, 10.3, 6.5, 5.6), (7, 'Joao', True, 25, 10.5, 8.4, 9.0, 8.6), (8, 'Saul', True, 24, 9.5, 8.9, 10.0, 9.6), (9, 'Suarez', False, 33, 8.6, 7.5), (10, 'Lionel', False, 33, 10.0, 11.1, 9.8, 8.5, 10.1), (19, 'Odriozola', True, 25, 9.5), (14, 'Araujo', False, 21, 8.9, 9.5), (15, 'Valverde', False, 22, 9.9, 10.2), (16, 'Pedri', True, 18, 10.5, 11, 9.5, 10.6), (22, 'Hermoso', False, 23, 10, 7.5, 6.6), (23, 'Iago', True, 33, 11.1, 9.0, 9.3, 8.8)), 10.2): ['Pedri'] (Respuesta esperada: ['Pedri'])\n",
      "(((3, 'Pique', True, 33, 10.2, 9.0), (4, 'Ramos', True, 34, 11.0, 11.1, 9.8, 8.5), (6, 'Koke', True, 27, 7.5, 9.6, 10.3, 6.5, 5.6), (7, 'Joao', True, 25, 10.5, 8.4, 9.0, 8.6), (8, 'Saul', True, 24, 9.5, 8.9, 10.0, 9.6), (9, 'Suarez', False, 33, 8.6, 7.5), (10, 'Lionel', False, 33, 10.0, 11.1, 9.8, 8.5, 10.1), (19, 'Odriozola', True, 25, 9.5), (14, 'Araujo', False, 21, 8.9, 9.5), (15, 'Valverde', False, 22, 9.9, 10.2), (16, 'Pedri', True, 18, 10.5, 11, 9.5, 10.6), (22, 'Hermoso', False, 23, 10, 7.5, 6.6), (23, 'Iago', True, 33, 11.1, 9.0, 9.3, 8.8)), 10.5): [] (Respuesta esperada: [])\n",
      "(((3, 'Pique', True, 33, 10.2, 9.0), (4, 'Ramos', True, 34, 11.0, 11.1, 9.8, 8.5), (6, 'Koke', True, 27, 7.5, 9.6, 10.3, 6.5, 5.6), (7, 'Joao', True, 25, 10.5, 8.4, 9.0, 8.6), (8, 'Saul', True, 24, 9.5, 8.9, 10.0, 9.6), (9, 'Suarez', False, 33, 8.6, 7.5), (10, 'Lionel', False, 33, 10.0, 11.1, 9.8, 8.5, 10.1), (19, 'Odriozola', True, 25, 9.5), (14, 'Araujo', False, 21, 8.9, 9.5), (15, 'Valverde', False, 22, 9.9, 10.2), (16, 'Pedri', True, 18, 10.5, 11, 9.5, 10.6), (22, 'Hermoso', False, 23, 10, 7.5, 6.6), (23, 'Iago', True, 33, 11.1, 9.0, 9.3, 8.8)), 9.5): ['Iago', 'Pedri', 'Pique', 'Ramos'] (Respuesta esperada: ['Iago', 'Pedri', 'Pique', 'Ramos'])\n",
      "(((3, 'Pique', True, 33, 10.2, 9.0), (4, 'Ramos', True, 34, 11.0, 11.1, 9.8, 8.5), (6, 'Koke', True, 27, 7.5, 9.6, 10.3, 6.5, 5.6), (7, 'Joao', True, 25, 10.5, 8.4, 9.0, 8.6), (8, 'Saul', True, 24, 9.5, 8.9, 10.0, 9.6), (9, 'Suarez', False, 33, 8.6, 7.5), (10, 'Lionel', False, 33, 10.0, 11.1, 9.8, 8.5, 10.1), (19, 'Odriozola', True, 25, 9.5), (14, 'Araujo', False, 21, 8.9, 9.5), (15, 'Valverde', False, 22, 9.9, 10.2), (16, 'Pedri', True, 18, 10.5, 11, 9.5, 10.6), (22, 'Hermoso', False, 23, 10, 7.5, 6.6), (23, 'Iago', True, 33, 11.1, 9.0, 9.3, 8.8)), 9.4): ['Iago', 'Odriozola', 'Pedri', 'Pique', 'Ramos', 'Saul'] (Respuesta esperada: ['Iago', 'Odriozola', 'Pedri', 'Pique', 'Ramos', 'Saul'])\n"
     ]
    }
   ],
   "source": [
    "lst_equipo = tuple([tuple([3, 'Pique', True, 33, 10.2, 9.0]), \\\n",
    " tuple([4, 'Ramos', True, 34, 11.0, 11.1, 9.8, 8.5]), \\\n",
    " tuple([6, 'Koke', True, 27, 7.5, 9.6, 10.3, 6.5, 5.6]), \\\n",
    " tuple([7, 'Joao', True, 25, 10.5, 8.4, 9.0, 8.6]), \\\n",
    " tuple([8, 'Saul', True, 24, 9.5, 8.9, 10.0, 9.6]), \\\n",
    " tuple([9, 'Suarez', False, 33, 8.6, 7.5]), \\\n",
    " tuple([10, 'Lionel', False, 33, 10.0, 11.1, 9.8, 8.5, 10.1]), \\\n",
    " tuple([19, 'Odriozola', True, 25, 9.5]), \\\n",
    " tuple([14, 'Araujo', False, 21, 8.9, 9.5]), \\\n",
    " tuple([15, 'Valverde', False, 22, 9.9, 10.2]), \\\n",
    " tuple([16, 'Pedri', True, 18, 10.5, 11, 9.5, 10.6]), \\\n",
    " tuple([22, 'Hermoso', False, 23, 10, 7.5, 6.6]), \\\n",
    " tuple([23, 'Iago', True, 33, 11.1, 9.0, 9.3, 8.8])])\n",
    "test_cases = {\n",
    "    (lst_equipo, 10): ['Pedri', 'Ramos'],\n",
    "    (lst_equipo, 10.2): ['Pedri'],\n",
    "    (lst_equipo, 10.5): [],\n",
    "    (lst_equipo, 9.5): ['Iago', 'Pedri', 'Pique', 'Ramos'],\n",
    "    (lst_equipo, 9.4): ['Iago', 'Odriozola', 'Pedri', 'Pique', 'Ramos', 'Saul'],\n",
    "}\n",
    "\n",
    "for test_case, expected in test_cases.items():\n",
    "    equipo, x = test_case\n",
    "    result = jugComKm(equipo, x)\n",
    "    print(f\"{test_case}: {result} (Respuesta esperada: {expected})\")"
   ]
  },
  {
   "cell_type": "markdown",
   "metadata": {},
   "source": [
    "Hemos comprobado los resultados esperados."
   ]
  }
 ],
 "metadata": {
  "kernelspec": {
   "display_name": "api",
   "language": "python",
   "name": "python3"
  },
  "language_info": {
   "codemirror_mode": {
    "name": "ipython",
    "version": 3
   },
   "file_extension": ".py",
   "mimetype": "text/x-python",
   "name": "python",
   "nbconvert_exporter": "python",
   "pygments_lexer": "ipython3",
   "version": "3.8.10"
  }
 },
 "nbformat": 4,
 "nbformat_minor": 2
}
